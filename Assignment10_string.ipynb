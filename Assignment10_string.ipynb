{
 "cells": [
  {
   "cell_type": "code",
   "execution_count": 1,
   "id": "e069ed48-3970-4902-a7e3-9dda9f8adc0a",
   "metadata": {},
   "outputs": [
    {
     "name": "stdin",
     "output_type": "stream",
     "text": [
      "Enter first string:  456\n",
      "Enter second string:  654\n"
     ]
    },
    {
     "name": "stdout",
     "output_type": "stream",
     "text": [
      "Concatenated String: 456654\n"
     ]
    }
   ],
   "source": [
    "#1. String Concatenation:\n",
    "#Write a program that takes two strings as input and prints their concatenation.\n",
    "str1 = input(\"Enter first string: \")\n",
    "str2 = input(\"Enter second string: \")\n",
    "print(\"Concatenated String:\", str1 + str2)"
   ]
  },
  {
   "cell_type": "code",
   "execution_count": 3,
   "id": "676ab6e2-6efd-4415-909d-c9707d4651fd",
   "metadata": {},
   "outputs": [
    {
     "name": "stdout",
     "output_type": "stream",
     "text": [
      "String Length: 5\n"
     ]
    }
   ],
   "source": [
    "#2. String Length:\n",
    "#Create a function that takes a string as input and returns its length.\n",
    "def string_length(s):\n",
    "    return len(s)\n",
    "print(\"String Length:\", string_length(\"hello\"))"
   ]
  },
  {
   "cell_type": "code",
   "execution_count": 5,
   "id": "3627ac5e-7c6b-4f52-a89b-c9e8d46e22b5",
   "metadata": {},
   "outputs": [
    {
     "name": "stdin",
     "output_type": "stream",
     "text": [
      "Enter a string:  Done\n",
      "Enter number of repetitions:  10\n"
     ]
    },
    {
     "name": "stdout",
     "output_type": "stream",
     "text": [
      "Repeated String: DoneDoneDoneDoneDoneDoneDoneDoneDoneDone\n"
     ]
    }
   ],
   "source": [
    "#3. String Repetition:\n",
    "#Write a program that takes a string and an integer as input and prints the string repeated that many times.\n",
    "s = input(\"Enter a string: \")\n",
    "n = int(input(\"Enter number of repetitions: \"))\n",
    "print(\"Repeated String:\", s * n)"
   ]
  },
  {
   "cell_type": "code",
   "execution_count": 9,
   "id": "1e36b63a-f680-4945-8a4e-bc2e9002cae8",
   "metadata": {},
   "outputs": [
    {
     "name": "stdin",
     "output_type": "stream",
     "text": [
      "Enter a string:  DOne\n"
     ]
    },
    {
     "name": "stdout",
     "output_type": "stream",
     "text": [
      "Uppercase: DONE\n",
      "Lowercase: done\n"
     ]
    }
   ],
   "source": [
    "#4. String Upper and Lower:\n",
    "#Create a program that takes a string as input and prints it in both uppercase and lowercase.\n",
    "s = input(\"Enter a string: \")\n",
    "print(\"Uppercase:\", s.upper())\n",
    "print(\"Lowercase:\", s.lower())"
   ]
  },
  {
   "cell_type": "code",
   "execution_count": 11,
   "id": "41f20849-76a6-4e61-bf1f-23bf94b94a9d",
   "metadata": {},
   "outputs": [
    {
     "name": "stdin",
     "output_type": "stream",
     "text": [
      "Enter a string:  gho\n"
     ]
    },
    {
     "name": "stdout",
     "output_type": "stream",
     "text": [
      "First 3 characters: gho\n"
     ]
    }
   ],
   "source": [
    "#5. String Slicing:\n",
    "#Write a program that takes a string as input and prints its first three characters.\n",
    "s = input(\"Enter a string: \")\n",
    "print(\"First 3 characters:\", s[:3])"
   ]
  },
  {
   "cell_type": "code",
   "execution_count": 15,
   "id": "d9b51b07-b20b-44b7-9429-e34143d22bd3",
   "metadata": {},
   "outputs": [
    {
     "name": "stdout",
     "output_type": "stream",
     "text": [
      "Vowel Count: 3\n"
     ]
    }
   ],
   "source": [
    "#6. Count Vowels:\n",
    "#Create a function that takes a string as input and returns the count of vowels (a, e, i, o, u) in the string.\n",
    "def count_vowels(s):\n",
    "    vowels = \"aeiouAEIOU\"\n",
    "    count = 0\n",
    "    for char in s:\n",
    "        if char in vowels:\n",
    "            count += 1\n",
    "    return count\n",
    "print(\"Vowel Count:\", count_vowels(\"SUDIPTA\"))"
   ]
  },
  {
   "cell_type": "code",
   "execution_count": 17,
   "id": "7bf1b36e-1ceb-46a0-8937-936aa1926e92",
   "metadata": {},
   "outputs": [
    {
     "name": "stdout",
     "output_type": "stream",
     "text": [
      "Is Palindrome: True\n"
     ]
    }
   ],
   "source": [
    "#7. String Palindrome Check:\n",
    "#Write a function that checks if a given string is a palindrome (reads the same backward as forward).\n",
    "def is_palindrome(s):\n",
    "    return s == s[::-1]\n",
    "print(\"Is Palindrome:\", is_palindrome(\"madam\"))"
   ]
  },
  {
   "cell_type": "code",
   "execution_count": 21,
   "id": "adcecb9b-82c6-415d-8042-f4cc93717677",
   "metadata": {},
   "outputs": [
    {
     "name": "stdin",
     "output_type": "stream",
     "text": [
      "Enter a string:  Sadu\n"
     ]
    },
    {
     "name": "stdout",
     "output_type": "stream",
     "text": [
      "Replaced String: Szdu\n"
     ]
    }
   ],
   "source": [
    "#8. String Replace:\n",
    "#Create a program that takes a string and replaces all occurrences of the letter 'a' with 'z'.\n",
    "s = input(\"Enter a string: \")\n",
    "print(\"Replaced String:\", s.replace('a', 'z'))"
   ]
  },
  {
   "cell_type": "code",
   "execution_count": 23,
   "id": "48a21327-351d-4c78-a7e6-7a0d999f9f86",
   "metadata": {},
   "outputs": [
    {
     "name": "stdout",
     "output_type": "stream",
     "text": [
      "Contains Substring: True\n"
     ]
    }
   ],
   "source": [
    "#9. String Contains Substring:\n",
    "#Write a function that takes two strings as input and checks if the second string is a substring of the first.\n",
    "def contains_substring(main_str, sub_str):\n",
    "    return sub_str in main_str\n",
    "print(\"Contains Substring:\", contains_substring(\"hello world\", \"world\"))"
   ]
  },
  {
   "cell_type": "code",
   "execution_count": 25,
   "id": "45cd5588-7a73-4cd3-9e1a-d896e3e019f8",
   "metadata": {},
   "outputs": [
    {
     "name": "stdin",
     "output_type": "stream",
     "text": [
      "Enter a string:  Sbbv\n",
      "Enter a character to count:  2\n"
     ]
    },
    {
     "name": "stdout",
     "output_type": "stream",
     "text": [
      "Character Count: 0\n"
     ]
    }
   ],
   "source": [
    "#10. String Count:\n",
    "#Create a program that takes a string and a character as input, and prints the number of times the character appears in the string.\n",
    "s = input(\"Enter a string: \")\n",
    "ch = input(\"Enter a character to count: \")\n",
    "print(\"Character Count:\", s.count(ch))"
   ]
  },
  {
   "cell_type": "code",
   "execution_count": 27,
   "id": "3f49d695-2b50-472a-9cc3-7fdadb279deb",
   "metadata": {},
   "outputs": [
    {
     "name": "stdin",
     "output_type": "stream",
     "text": [
      "Enter a sentence:  i love pen\n"
     ]
    },
    {
     "name": "stdout",
     "output_type": "stream",
     "text": [
      "Capitalized: I Love Pen\n"
     ]
    }
   ],
   "source": [
    "#11. String Capitalization:\n",
    "#Write a program that takes a sentence as input and prints it with the first letter of each word capitalized.\n",
    "sentence = input(\"Enter a sentence: \")\n",
    "print(\"Capitalized:\", sentence.title())"
   ]
  },
  {
   "cell_type": "code",
   "execution_count": 29,
   "id": "ab2747fa-a04b-439e-a5db-bd080da0e662",
   "metadata": {},
   "outputs": [
    {
     "name": "stdin",
     "output_type": "stream",
     "text": [
      "Enter your name:  Sudipta\n"
     ]
    },
    {
     "name": "stdout",
     "output_type": "stream",
     "text": [
      "Hello, Sudipta!\n"
     ]
    }
   ],
   "source": [
    "#12. String Formatting:\n",
    "#Create a program that formats a given string with placeholder values. For example, given\n",
    "#\"Hello, {}!\", input a name to replace the placeholder.\n",
    "name = input(\"Enter your name: \")\n",
    "print(\"Hello, {}!\".format(name))"
   ]
  },
  {
   "cell_type": "code",
   "execution_count": 31,
   "id": "659096f2-f634-46cb-9fcd-0fb26095bdc1",
   "metadata": {},
   "outputs": [
    {
     "name": "stdout",
     "output_type": "stream",
     "text": [
      "Reversed String: olleh\n"
     ]
    }
   ],
   "source": [
    "#13. String Reverse:\n",
    "#Write a function that takes a string as input and prints it in reverse order.\n",
    "\n",
    "def reverse_string(s):\n",
    "    print(\"Reversed String:\", s[::-1])\n",
    "reverse_string(\"hello\")\n"
   ]
  },
  {
   "cell_type": "code",
   "execution_count": 35,
   "id": "e3a92c62-045b-4948-ac2d-142440c9f543",
   "metadata": {},
   "outputs": [
    {
     "name": "stdout",
     "output_type": "stream",
     "text": [
      "hello world python\n"
     ]
    }
   ],
   "source": [
    "#14. String Join:\n",
    "#Create a program that takes a list of words and joins them into a single string separated by spaces.\n",
    "words = [\"hello\", \"world\", \"python\"]\n",
    "joined = \" \".join(words)\n",
    "print(joined)"
   ]
  },
  {
   "cell_type": "code",
   "execution_count": 37,
   "id": "59dbf684-eb15-40fe-be01-bc86329a61d3",
   "metadata": {},
   "outputs": [
    {
     "name": "stdin",
     "output_type": "stream",
     "text": [
      "Enter a string:  smkjnkibiscb\n"
     ]
    },
    {
     "name": "stdout",
     "output_type": "stream",
     "text": [
      "Last Character: b\n"
     ]
    }
   ],
   "source": [
    "#15. String Indexing:\n",
    "#Write a program that takes a string as input and prints the last character.\n",
    "s = input(\"Enter a string: \")\n",
    "print(\"Last Character:\", s[-1])"
   ]
  },
  {
   "cell_type": "code",
   "execution_count": 41,
   "id": "63ebe038-2845-453c-84d9-9348c13a0eb7",
   "metadata": {},
   "outputs": [
    {
     "name": "stdout",
     "output_type": "stream",
     "text": [
      "Word Count: 5\n"
     ]
    }
   ],
   "source": [
    "#16. String Count Words:\n",
    "#Create a function that takes a sentence as input and returns the number of words in the sentence.\n",
    "def count_words(sentence):\n",
    "    return len(sentence.split())\n",
    "print(\"Word Count:\", count_words(\"This is a test sentence\"))"
   ]
  },
  {
   "cell_type": "code",
   "execution_count": 43,
   "id": "6d86ffab-c1c2-4a0d-9e40-7f26df454c09",
   "metadata": {},
   "outputs": [
    {
     "name": "stdout",
     "output_type": "stream",
     "text": [
      "Uppercase Count: 8\n"
     ]
    }
   ],
   "source": [
    "#17. String Uppercase Count:\n",
    "#Write a function that takes a string as input and returns the count of uppercase letters in the string.\n",
    "def count_uppercase(s):\n",
    "    count = 0\n",
    "    for char in s:\n",
    "        if char.isupper():\n",
    "            count += 1\n",
    "    return count\n",
    "print(\"Uppercase Count:\", count_uppercase(\"Hello World! PYTHON\"))"
   ]
  },
  {
   "cell_type": "code",
   "execution_count": 45,
   "id": "4d256d2e-4ff8-4c2f-8cd1-ad654d5aa471",
   "metadata": {},
   "outputs": [
    {
     "name": "stdin",
     "output_type": "stream",
     "text": [
      "Enter a string:  Sudipta\n"
     ]
    },
    {
     "name": "stdout",
     "output_type": "stream",
     "text": [
      "Title Case: Sudipta\n"
     ]
    }
   ],
   "source": [
    "#18. String Title Case:\n",
    "#Create a program that takes a string as input and prints it in title case (the first letter of each word capitalized).\n",
    "s = input(\"Enter a string: \")\n",
    "print(\"Title Case:\", s.title())"
   ]
  },
  {
   "cell_type": "code",
   "execution_count": 47,
   "id": "9083a354-7171-46e2-a2e7-f38a08724c1d",
   "metadata": {},
   "outputs": [
    {
     "name": "stdout",
     "output_type": "stream",
     "text": [
      "Swapped Case: hELLO python\n"
     ]
    }
   ],
   "source": [
    "#19. String Swap Case:\n",
    "#Write a function that takes a string as input and returns a new string with the case of each\n",
    "#letter swapped (e.g., 'a' becomes 'A' and vice versa).\n",
    "def swap_case(s):\n",
    "    return s.swapcase()\n",
    "print(\"Swapped Case:\", swap_case(\"Hello PYTHON\"))"
   ]
  },
  {
   "cell_type": "code",
   "execution_count": 49,
   "id": "f4f7a7a5-b1ae-4ab3-9b57-a9281e168869",
   "metadata": {},
   "outputs": [
    {
     "name": "stdin",
     "output_type": "stream",
     "text": [
      "Enter a sentence:  i hate life\n"
     ]
    },
    {
     "name": "stdout",
     "output_type": "stream",
     "text": [
      "i\n",
      "hate\n",
      "life\n"
     ]
    }
   ],
   "source": [
    "#20. String Split:\n",
    "#Create a program that takes a sentence as input and prints each word on a new line using the split method\n",
    "sentence = input(\"Enter a sentence: \")\n",
    "words = sentence.split()\n",
    "for word in words:\n",
    "    print(word)"
   ]
  },
  {
   "cell_type": "code",
   "execution_count": null,
   "id": "7248d3fb-9df7-47af-990f-8482d4daaa9f",
   "metadata": {},
   "outputs": [],
   "source": []
  }
 ],
 "metadata": {
  "kernelspec": {
   "display_name": "Python [conda env:base] *",
   "language": "python",
   "name": "conda-base-py"
  },
  "language_info": {
   "codemirror_mode": {
    "name": "ipython",
    "version": 3
   },
   "file_extension": ".py",
   "mimetype": "text/x-python",
   "name": "python",
   "nbconvert_exporter": "python",
   "pygments_lexer": "ipython3",
   "version": "3.12.7"
  }
 },
 "nbformat": 4,
 "nbformat_minor": 5
}
