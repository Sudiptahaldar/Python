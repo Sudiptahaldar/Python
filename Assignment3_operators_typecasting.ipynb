{
 "cells": [
  {
   "cell_type": "code",
   "execution_count": 1,
   "id": "816817c2-a0c5-417a-b3b7-f900589601b6",
   "metadata": {},
   "outputs": [
    {
     "name": "stdout",
     "output_type": "stream",
     "text": [
      "5\n"
     ]
    }
   ],
   "source": [
    "#1.Declare an integer variable x with the value 5. Print the value of x.\n",
    "x=5\n",
    "print(x)"
   ]
  },
  {
   "cell_type": "code",
   "execution_count": 3,
   "id": "242f5a26-d7cc-43c5-a5f9-710ab95d47cf",
   "metadata": {},
   "outputs": [
    {
     "name": "stdout",
     "output_type": "stream",
     "text": [
      "3.14\n"
     ]
    }
   ],
   "source": [
    "#2.Create a floating-point variable y with the value 3.14. Print the value of y.\n",
    "y=3.14\n",
    "print(y)"
   ]
  },
  {
   "cell_type": "code",
   "execution_count": 5,
   "id": "0a700efe-a250-4542-819b-6ecba0e56fcf",
   "metadata": {},
   "outputs": [
    {
     "name": "stdout",
     "output_type": "stream",
     "text": [
      "123\n"
     ]
    }
   ],
   "source": [
    "#3.Convert the string \"123\" to an integer and store it in a variable num.\n",
    "my_str =\"123\"\n",
    "num =int(my_str)\n",
    "print(num)"
   ]
  },
  {
   "cell_type": "code",
   "execution_count": 7,
   "id": "ac614667-be8f-4b1e-acc2-7b41c5252af6",
   "metadata": {},
   "outputs": [
    {
     "name": "stdout",
     "output_type": "stream",
     "text": [
      "42\n"
     ]
    }
   ],
   "source": [
    "#4.Convert the integer 42 to a string and store it in a variable str_num.\n",
    "a = 42\n",
    "str_num = str(a)\n",
    "print(str_num)"
   ]
  },
  {
   "cell_type": "code",
   "execution_count": 9,
   "id": "45ff38a1-e6ae-4b57-8887-6b60d25f4e05",
   "metadata": {},
   "outputs": [
    {
     "name": "stdin",
     "output_type": "stream",
     "text": [
      "Enter a number: 25\n"
     ]
    },
    {
     "name": "stdout",
     "output_type": "stream",
     "text": [
      "The number is not positive and even number\n"
     ]
    }
   ],
   "source": [
    "#5.Write a Python program that checks if a number entered by the user is both positive and even using the and operator.\n",
    "x=int(input(\"Enter a number:\"))\n",
    "if x>0 and x%2==0:\n",
    "  print(\"The number is both positive and even number\")\n",
    "else:\n",
    "  print(\"The number is not positive and even number\")"
   ]
  },
  {
   "cell_type": "code",
   "execution_count": 22,
   "id": "62858899-3289-48e6-885d-f0ba3980d5f6",
   "metadata": {},
   "outputs": [
    {
     "name": "stdin",
     "output_type": "stream",
     "text": [
      "Enter a character:  5\n"
     ]
    },
    {
     "name": "stdout",
     "output_type": "stream",
     "text": [
      "'5' is an uppercase letter or a digit.\n"
     ]
    }
   ],
   "source": [
    "#6.Create a Python program that checks if a character entered by the user is either an uppercase letter or a digit using the or operator.\n",
    "char = input(\"Enter a character: \")\n",
    "\n",
    "if (char >= 'A' and char <= 'Z') or (char >= '0' and char <= '9'):\n",
    "    print(f\"'{char}' is an uppercase letter or a digit.\")\n",
    "else:\n",
    "    print(f\"'{char}' is not an uppercase letter or a digit.\")"
   ]
  },
  {
   "cell_type": "code",
   "execution_count": 24,
   "id": "5713bd4d-f317-4fab-942a-1436aff38c34",
   "metadata": {},
   "outputs": [
    {
     "name": "stdin",
     "output_type": "stream",
     "text": [
      "Enter a string:  254\n"
     ]
    },
    {
     "name": "stdout",
     "output_type": "stream",
     "text": [
      "The entered string is not empty.\n"
     ]
    }
   ],
   "source": [
    "#7. Write a Python program that checks if a user-entered string is not empty using the not operator.\n",
    "user_input = input(\"Enter a string: \")\n",
    "if not user_input:\n",
    "    print(\"The entered string is empty.\")\n",
    "else:\n",
    "    print(\"The entered string is not empty.\")"
   ]
  },
  {
   "cell_type": "code",
   "execution_count": 28,
   "id": "7d1b51e1-af1b-417b-aec0-91c0274c815a",
   "metadata": {},
   "outputs": [
    {
     "name": "stdin",
     "output_type": "stream",
     "text": [
      "Enter a number:  15\n"
     ]
    },
    {
     "name": "stdout",
     "output_type": "stream",
     "text": [
      "15 does not meet the criteria.\n"
     ]
    }
   ],
   "source": [
    "#8. Create a Python program that checks if a number entered by the user is divisible by either 3 or 5 but not both.\n",
    "number = int(input(\"Enter a number: \"))\n",
    "\n",
    "if (number % 3 == 0 or number % 5 == 0) and not (number % 15 == 0):\n",
    "    print(f\"{number} is divisible by 3 or 5, but not both.\")\n",
    "else:\n",
    "    print(f\"{number} does not meet the criteria.\")"
   ]
  },
  {
   "cell_type": "code",
   "execution_count": 30,
   "id": "dcc0b945-b2f2-4996-94c6-65339155600f",
   "metadata": {},
   "outputs": [
    {
     "name": "stdin",
     "output_type": "stream",
     "text": [
      "Enter studen's score: 45\n"
     ]
    },
    {
     "name": "stdout",
     "output_type": "stream",
     "text": [
      "Valid score\n"
     ]
    }
   ],
   "source": [
    "#9. Write a Python program that checks if a student's score is between 0 and 100 (inclusive) using logical\n",
    "#operators. If it is, print \"Valid score,\" otherwise, print \"Invalid score.\"\n",
    "student_score=int(input(\"Enter studen's score:\"))\n",
    "if student_score>=0 and student_score<=100:\n",
    "  print(\"Valid score\")\n",
    "else:\n",
    "  print(\"Invalid score\")"
   ]
  },
  {
   "cell_type": "code",
   "execution_count": 32,
   "id": "eaa2a66f-a31a-4654-bd38-670fd2c0d254",
   "metadata": {},
   "outputs": [
    {
     "name": "stdin",
     "output_type": "stream",
     "text": [
      "Enter a user's age: 25\n"
     ]
    },
    {
     "name": "stdout",
     "output_type": "stream",
     "text": [
      "You are eligible for work\n"
     ]
    }
   ],
   "source": [
    "#10. Create a Python program that asks the user for their age. If their age is between 18 and 65 (inclusive),\n",
    "#print \"You are eligible for work,\" otherwise, print \"You are not eligible for work.\"\n",
    "user_age=int(input(\"Enter a user's age:\"))\n",
    "if user_age>=18 and user_age<=65:\n",
    "  print(\"You are eligible for work\")\n",
    "else:\n",
    "  print(\"You are not eligible for work\")"
   ]
  },
  {
   "cell_type": "code",
   "execution_count": 34,
   "id": "8686d8a7-791f-4c8b-b8c4-92f7e9d0de27",
   "metadata": {},
   "outputs": [
    {
     "name": "stdin",
     "output_type": "stream",
     "text": [
      "Enter a number: 254\n"
     ]
    },
    {
     "name": "stdout",
     "output_type": "stream",
     "text": [
      "508\n"
     ]
    }
   ],
   "source": [
    "#11. Write a Python program that takes a number as input from the user and doubles it using the *= assignment operator. Print the result.\n",
    "user_input=int(input(\"Enter a number:\"))\n",
    "user_input*=2\n",
    "print(user_input)"
   ]
  },
  {
   "cell_type": "code",
   "execution_count": 36,
   "id": "b4f4d934-5e1b-484f-877b-b5dd12838357",
   "metadata": {},
   "outputs": [
    {
     "name": "stdout",
     "output_type": "stream",
     "text": [
      "x = 5\n",
      "y = 10\n"
     ]
    }
   ],
   "source": [
    "#12. Write a Python program to swap the values of two variables x and y without using a temporary variable, using assignment operators.\n",
    "x = 10\n",
    "y = 5\n",
    "\n",
    "x = x + y\n",
    "y = x - y\n",
    "x = x - y\n",
    "\n",
    "print(\"x =\", x)\n",
    "print(\"y =\", y)"
   ]
  },
  {
   "cell_type": "code",
   "execution_count": 38,
   "id": "9f9e3fc9-1411-4ee8-a2b2-2a21bdc2ce58",
   "metadata": {},
   "outputs": [
    {
     "name": "stdin",
     "output_type": "stream",
     "text": [
      "Enter a number: 25\n"
     ]
    },
    {
     "name": "stdout",
     "output_type": "stream",
     "text": [
      "50\n",
      "100\n",
      "200\n"
     ]
    }
   ],
   "source": [
    "#13. Implement a Python program that keeps doubling a number x until it reaches or exceeds 100, using assignment operators.\n",
    "x=int(input(\"Enter a number:\"))\n",
    "while x<=100:\n",
    "  x*=2\n",
    "  print(x)"
   ]
  },
  {
   "cell_type": "code",
   "execution_count": 40,
   "id": "82ba0d42-d964-42ff-b7e7-b5043a90f227",
   "metadata": {},
   "outputs": [
    {
     "name": "stdin",
     "output_type": "stream",
     "text": [
      "Enter the first number:  5\n",
      "Enter the second number:  6\n",
      "Enter the third number:  7\n"
     ]
    },
    {
     "name": "stdout",
     "output_type": "stream",
     "text": [
      "The average of the three numbers is: 6.0\n"
     ]
    }
   ],
   "source": [
    "#14. Create a Python program that calculates and prints the average of three numbers entered by the user using the /= assignment operator.\n",
    "a = int(input(\"Enter the first number: \"))\n",
    "b = int(input(\"Enter the second number: \"))\n",
    "c = int(input(\"Enter the third number: \"))\n",
    "total = a + b + c\n",
    "total /= 3\n",
    "print(\"The average of the three numbers is:\", total)"
   ]
  },
  {
   "cell_type": "code",
   "execution_count": 42,
   "id": "8aa4703d-ab2b-47c7-8bfe-72cddf80fbe6",
   "metadata": {},
   "outputs": [
    {
     "name": "stdin",
     "output_type": "stream",
     "text": [
      "Enter a number: 25\n"
     ]
    },
    {
     "name": "stdout",
     "output_type": "stream",
     "text": [
      "625\n"
     ]
    }
   ],
   "source": [
    "#15.Write a Python program that calculates and prints the square of a number entered by the user using the **= assignment operator.\n",
    "num=int(input(\"Enter a number:\"))\n",
    "num**=2\n",
    "print(num)"
   ]
  },
  {
   "cell_type": "code",
   "execution_count": 44,
   "id": "2d66250f-387f-41d2-904a-ab9f8b05a99e",
   "metadata": {},
   "outputs": [
    {
     "name": "stdin",
     "output_type": "stream",
     "text": [
      "Enter the first string:  25\n",
      "Enter the second string:  \n"
     ]
    },
    {
     "name": "stdout",
     "output_type": "stream",
     "text": [
      "The first string is longer than the second string.\n",
      "The first string is longer by 2 characters.\n"
     ]
    }
   ],
   "source": [
    "#16.Create a Python program that compares the lengths of two strings entered by the user and prints\n",
    "#whether they have the same length, different lengths, or if one is longer than the other.\n",
    "string1 = input(\"Enter the first string: \")\n",
    "string2 = input(\"Enter the second string: \")\n",
    "if len(string1) == len(string2):\n",
    "    print(\"The two strings have the same length.\")\n",
    "elif len(string1) > len(string2):\n",
    "    print(\"The first string is longer than the second string.\")\n",
    "    print(\"The first string is longer by\", len(string1) - len(string2), \"characters.\")\n",
    "else:\n",
    "    print(\"The second string is longer than the first string.\")"
   ]
  },
  {
   "cell_type": "code",
   "execution_count": 46,
   "id": "866e7800-1904-4984-97dc-611c183ec90f",
   "metadata": {},
   "outputs": [
    {
     "name": "stdin",
     "output_type": "stream",
     "text": [
      "Enter a year:  2024\n"
     ]
    },
    {
     "name": "stdout",
     "output_type": "stream",
     "text": [
      "2024 is a leap year\n"
     ]
    }
   ],
   "source": [
    "#17.Write a Python program that checks if a given year is a leap year or not, using comparison operators to check divisibility.\n",
    "year = int(input(\"Enter a year: \"))\n",
    "if year%4==0:\n",
    "  print(year, \"is a leap year\")\n",
    "else:\n",
    "  print(year, \"is not a leap yesr\")"
   ]
  },
  {
   "cell_type": "code",
   "execution_count": 48,
   "id": "7dae22ef-5c85-4de8-a8a6-bdbfd728de97",
   "metadata": {},
   "outputs": [
    {
     "name": "stdout",
     "output_type": "stream",
     "text": [
      "3.5\n"
     ]
    }
   ],
   "source": [
    "#18.Calculate the result of 7 divided by 2 and assign it to a variable result.\n",
    "result = 7/2\n",
    "print(result)"
   ]
  },
  {
   "cell_type": "code",
   "execution_count": 50,
   "id": "50dd14e3-9768-448e-b9ec-0d63c9618fb5",
   "metadata": {},
   "outputs": [
    {
     "name": "stdout",
     "output_type": "stream",
     "text": [
      "2\n"
     ]
    }
   ],
   "source": [
    "#19. Calculate the remainder when 17 is divided by 5 and store it in a variable remaind\n",
    "remaind = 17%5\n",
    "print(remaind)"
   ]
  },
  {
   "cell_type": "code",
   "execution_count": 52,
   "id": "74809666-e977-4dde-8561-b124e5578568",
   "metadata": {},
   "outputs": [
    {
     "name": "stdout",
     "output_type": "stream",
     "text": [
      "650\n"
     ]
    }
   ],
   "source": [
    "#20. Write a Python program that calculates the sum of all even numbers between 1 and 50 using arithmetic operators and loops.\n",
    "sum = 0\n",
    "for number in range(1, 51):\n",
    "  if number%2==0:\n",
    "    sum+=number\n",
    "print(sum)"
   ]
  },
  {
   "cell_type": "code",
   "execution_count": 54,
   "id": "ec383df6-ffe4-4982-bb7e-c6bd4c1b89a0",
   "metadata": {},
   "outputs": [
    {
     "name": "stdin",
     "output_type": "stream",
     "text": [
      "Enter first number: 25\n",
      "Enter second number: 20\n"
     ]
    },
    {
     "name": "stdout",
     "output_type": "stream",
     "text": [
      "Sum of  25  and  20  is:  45\n"
     ]
    }
   ],
   "source": [
    "#21.Write a Python program that takes two numbers as input from the user and prints their sum.\n",
    "a=int(input(\"Enter first number:\"))\n",
    "b=int(input(\"Enter second number:\"))\n",
    "sum=a+b\n",
    "print(\"Sum of \",a,\" and \",b,\" is: \",sum)"
   ]
  },
  {
   "cell_type": "code",
   "execution_count": 56,
   "id": "c96977e7-1725-4e22-aee9-c821dac09cfb",
   "metadata": {},
   "outputs": [
    {
     "name": "stdin",
     "output_type": "stream",
     "text": [
      "Enter the first number:  25\n",
      "Enter the second number:  65\n"
     ]
    },
    {
     "name": "stdout",
     "output_type": "stream",
     "text": [
      "The sum of the two numbers is: 90\n"
     ]
    }
   ],
   "source": [
    "#22. Write a Python program that takes two numbers as input from the user, but with a twist. The program should only accept input if the sum\n",
    "#of the two numbers is less than 100. If the sum is 100 or greater, the program should ask the user to re-enter both numbers until\n",
    "#the sum is less than 100, and then it should print the sum. Using Loop\n",
    "while True:\n",
    "    num1 = int(input(\"Enter the first number: \"))\n",
    "    num2 = int(input(\"Enter the second number: \"))\n",
    "    total = num1 + num2\n",
    "    if total < 100:\n",
    "        print(\"The sum of the two numbers is:\", total)\n",
    "        break\n",
    "    else:\n",
    "        print(\"The sum is 100 or greater. Please re-enter both numbers.\")"
   ]
  },
  {
   "cell_type": "code",
   "execution_count": 58,
   "id": "3be39aa0-d1b6-464f-8470-26035fd2ddf5",
   "metadata": {},
   "outputs": [
    {
     "name": "stdin",
     "output_type": "stream",
     "text": [
      "Enter the length: 25\n",
      "Enter the width: 25\n"
     ]
    },
    {
     "name": "stdout",
     "output_type": "stream",
     "text": [
      "625.0\n"
     ]
    }
   ],
   "source": [
    "#Write a program that calculates and prints the area of a rectangle given its length and width  (inputs from the user).\n",
    "length=float(input(\"Enter the length:\"))\n",
    "width=float(input(\"Enter the width:\"))\n",
    "area=length*width\n",
    "print(area)"
   ]
  },
  {
   "cell_type": "code",
   "execution_count": 60,
   "id": "6ce5c8fa-c67f-4a59-b5c4-1db688462c3e",
   "metadata": {},
   "outputs": [
    {
     "name": "stdin",
     "output_type": "stream",
     "text": [
      "Enter the first number:  25\n",
      "Enter the second number:  42\n"
     ]
    },
    {
     "name": "stdout",
     "output_type": "stream",
     "text": [
      "Final outcome in integer format: 1\n"
     ]
    }
   ],
   "source": [
    "#Take two number inputs from user.\n",
    "#1. Find out the square of the given two numbers and store the value in different two variables\n",
    "#2. Find out the average of the numbers\n",
    "#3. Find out the datatype of the average value\n",
    "#4. Now find out the remainder of the Average value when the value is divided by 2\n",
    "#5. Print the final outcome in Integer Format\n",
    "# Step 1: Take two number inputs from the user\n",
    "\n",
    "num1 = int(input(\"Enter the first number: \"))\n",
    "num2 = int(input(\"Enter the second number: \"))\n",
    "\n",
    "square1 = num1 ** 2\n",
    "square2 = num2 ** 2\n",
    "\n",
    "average = (num1 + num2) / 2\n",
    "\n",
    "datatype = type(average)\n",
    "\n",
    "remainder = average % 2\n",
    "\n",
    "print(\"Final outcome in integer format:\", int(remainder))"
   ]
  },
  {
   "cell_type": "code",
   "execution_count": null,
   "id": "b2abc947-1a8c-41bc-8f45-e3f4350bfddd",
   "metadata": {},
   "outputs": [],
   "source": []
  }
 ],
 "metadata": {
  "kernelspec": {
   "display_name": "Python [conda env:base] *",
   "language": "python",
   "name": "conda-base-py"
  },
  "language_info": {
   "codemirror_mode": {
    "name": "ipython",
    "version": 3
   },
   "file_extension": ".py",
   "mimetype": "text/x-python",
   "name": "python",
   "nbconvert_exporter": "python",
   "pygments_lexer": "ipython3",
   "version": "3.12.7"
  }
 },
 "nbformat": 4,
 "nbformat_minor": 5
}
