{
 "cells": [
  {
   "cell_type": "code",
   "execution_count": 1,
   "id": "87ac4ae8-1dac-4adf-a14a-c1368db5b429",
   "metadata": {},
   "outputs": [
    {
     "name": "stdin",
     "output_type": "stream",
     "text": [
      "Enter 1st number: 25\n",
      "Enter 2nd number: 25\n"
     ]
    },
    {
     "name": "stdout",
     "output_type": "stream",
     "text": [
      "The sum of two numbers: 50\n"
     ]
    }
   ],
   "source": [
    "#1. Write a Python program that takes two numbers as input and calculates their sum\n",
    "a = int(input(\"Enter 1st number:\"))\n",
    "b = int(input(\"Enter 2nd number:\"))\n",
    "print(\"The sum of two numbers:\",a+b)"
   ]
  },
  {
   "cell_type": "code",
   "execution_count": 3,
   "id": "3553a2fc-5568-4773-a107-365f7570a099",
   "metadata": {},
   "outputs": [
    {
     "name": "stdin",
     "output_type": "stream",
     "text": [
      "Enter a number: 54\n"
     ]
    },
    {
     "name": "stdout",
     "output_type": "stream",
     "text": [
      "It is a even number\n"
     ]
    }
   ],
   "source": [
    "#2. Write a Python program that checks if a given number is even or odd and prints an appropriate message.\n",
    "num = int(input(\"Enter a number:\"))\n",
    "if num % 2 == 0:\n",
    "  print(\"It is a even number\")\n",
    "else:\n",
    "  print(\"It is a odd number\")"
   ]
  },
  {
   "cell_type": "code",
   "execution_count": 5,
   "id": "bb4a3a5a-8b8b-4835-ad7f-0c8765a4670f",
   "metadata": {},
   "outputs": [
    {
     "name": "stdin",
     "output_type": "stream",
     "text": [
      "Enter a number: 45\n"
     ]
    },
    {
     "name": "stdout",
     "output_type": "stream",
     "text": [
      "You are an adult\n"
     ]
    }
   ],
   "source": [
    "# 3. Write a Python program that takes a user's age as input and prints \"You are aminor\" if the age is less than 18, \"You are an adult\"\n",
    "# if the age is 18 or older but less than 65, and \"You are a senior\" if the age is 65 or older.\n",
    "user_age = int(input(\"Enter a number:\"))\n",
    "if user_age < 18:\n",
    "  print(\"You are aminor\")\n",
    "elif user_age >= 18 and user_age < 65:\n",
    "  print(\"You are an adult\")\n",
    "else:\n",
    "  print(\"You are a senior:\")"
   ]
  },
  {
   "cell_type": "code",
   "execution_count": 7,
   "id": "d8ec6b8f-13a3-4b90-ae95-1060c2e4b3c8",
   "metadata": {},
   "outputs": [
    {
     "name": "stdin",
     "output_type": "stream",
     "text": [
      "Enter the length of the rectangular:  25\n",
      "Enter the width of the rectangular: 45\n"
     ]
    },
    {
     "name": "stdout",
     "output_type": "stream",
     "text": [
      " The area of the rectangular:  1125.0\n"
     ]
    }
   ],
   "source": [
    "#4. Write a Python program that calculates the area of a rectangle. It should take the length and width as input from the user.\n",
    "length=input(\"Enter the length of the rectangular: \")\n",
    "width=input(\"Enter the width of the rectangular:\")\n",
    "area=float(length)*float(width)\n",
    "print(\" The area of the rectangular: \",area)"
   ]
  },
  {
   "cell_type": "code",
   "execution_count": 9,
   "id": "23746af2-a857-4d0a-9924-fff40c0b7e56",
   "metadata": {},
   "outputs": [
    {
     "name": "stdin",
     "output_type": "stream",
     "text": [
      "Enter the year: 25\n"
     ]
    },
    {
     "name": "stdout",
     "output_type": "stream",
     "text": [
      "This is not leap year\n"
     ]
    }
   ],
   "source": [
    "#5. Write a Python program that checks if a given year is a leap year. A leap year is a year that is divisible by 4 but not\n",
    "#divisible by 100, except if it is also divisible by 400\n",
    "leap_year = int(input(\"Enter the year:\"))\n",
    "if (leap_year % 4 == 0 and leap_year % 100 != 0) or (leap_year % 400 == 0):\n",
    "  print(\"This is leap year\")\n",
    "else:\n",
    "  print(\"This is not leap year\")"
   ]
  },
  {
   "cell_type": "code",
   "execution_count": 11,
   "id": "f9c8ab19-85ad-4746-aa76-cc40f1fe876b",
   "metadata": {},
   "outputs": [
    {
     "name": "stdin",
     "output_type": "stream",
     "text": [
      "Enter the user's score: 54\n"
     ]
    },
    {
     "name": "stdout",
     "output_type": "stream",
     "text": [
      "F\n"
     ]
    }
   ],
   "source": [
    "#6.Write a Python program that takes a user's score as input and assigns a letter\n",
    "#grade based on the following grading scale:- A: 90-100- B: 80-89- C: 70-79- D: 60-69- F: Below 60\n",
    "user_score = float(input(\"Enter the user's score:\"))\n",
    "if user_score>=90 and user_score<=100:\n",
    "  print(\"A\")\n",
    "elif user_score>=80 and user_score<=89:\n",
    "  print(\"B\")\n",
    "elif user_score>=70 and user_score<=79:\n",
    "  print(\"C\")\n",
    "elif user_score>=60 and user_score<=69:\n",
    "  print(\"D\")\n",
    "else:\n",
    "  print(\"F\")"
   ]
  },
  {
   "cell_type": "code",
   "execution_count": 15,
   "id": "052e93a1-8d52-4f25-8cb8-34759477a40c",
   "metadata": {},
   "outputs": [
    {
     "name": "stdin",
     "output_type": "stream",
     "text": [
      "Enter your name: Sudipta\n",
      "Enter your age: 26\n"
     ]
    },
    {
     "name": "stdout",
     "output_type": "stream",
     "text": [
      "Thank you Sudipta\n"
     ]
    }
   ],
   "source": [
    "#7.Write a Python program that asks the user for their name and age. If the user's age is less than 13, print\n",
    "#\"Sorry, you are not eligible for this service.\" Otherwise, print a greeting message with their name\n",
    "name = str(input(\"Enter your name:\"))\n",
    "age = int(input(\"Enter your age:\"))\n",
    "if age<13:\n",
    "  print(\"Sorry, you are not eligible for this service\")\n",
    "else:\n",
    "  print(\"Thank you \"+name)"
   ]
  },
  {
   "cell_type": "code",
   "execution_count": 17,
   "id": "0423f72e-9684-4e06-ac81-fba97c446c6f",
   "metadata": {},
   "outputs": [
    {
     "name": "stdin",
     "output_type": "stream",
     "text": [
      "Takes a number: 25\n"
     ]
    },
    {
     "name": "stdout",
     "output_type": "stream",
     "text": [
      "Positive number\n"
     ]
    }
   ],
   "source": [
    "# Write a Python program that takes a number as input and checks if it is\n",
    "#positive, negative, or zero. Print an appropriate message based on the input.\n",
    "number = int(input(\"Takes a number:\"))\n",
    "if number>0:\n",
    "  print(\"Positive number\")\n",
    "elif number<0:\n",
    "  print(\"Negative number:\")\n",
    "else:\n",
    "  print(\"Zero\")"
   ]
  },
  {
   "cell_type": "code",
   "execution_count": 23,
   "id": "34892b30-705c-4e03-9809-2d504c61f0cf",
   "metadata": {},
   "outputs": [
    {
     "name": "stdin",
     "output_type": "stream",
     "text": [
      "Enter a number:  6\n"
     ]
    },
    {
     "name": "stdout",
     "output_type": "stream",
     "text": [
      "The factorial of a number is: 720\n"
     ]
    }
   ],
   "source": [
    "#9.Write a Python program that calculates the factorial of a given number. The factorial of a non-negative integer n\n",
    "#is the product of all positive integers less than or equal to n.\n",
    "number = int(input(\"Enter a number: \"))\n",
    "if number < 0:\n",
    "    print(\"Factorial is not defined for negative numbers.\")\n",
    "else:\n",
    "    result = 1\n",
    "    for i in range(2, number + 1):\n",
    "        result *= i\n",
    "    print(\"The factorial of a number is:\",result)"
   ]
  },
  {
   "cell_type": "code",
   "execution_count": 25,
   "id": "1e0e9084-01a1-4f0f-87af-a52ea0760a17",
   "metadata": {},
   "outputs": [
    {
     "name": "stdin",
     "output_type": "stream",
     "text": [
      "Enter a string: 4562\n"
     ]
    },
    {
     "name": "stdout",
     "output_type": "stream",
     "text": [
      "The string is not a palindrome.\n"
     ]
    }
   ],
   "source": [
    "#10.Write a Python program that checks if a given string is a palindrome. A palindrome is a word, phrase, number, or other sequence of\n",
    "#characters that reads the same forward and backward (ignoring spaces, punctuation, and capitalization)\n",
    "\n",
    "s = input(\"Enter a string:\")\n",
    "rev_str = reversed(s)\n",
    "if list(s) == list(rev_str):\n",
    "   print(\"The string is a palindrome.\")\n",
    "else:\n",
    "   print(\"The string is not a palindrome.\")"
   ]
  },
  {
   "cell_type": "code",
   "execution_count": null,
   "id": "a56906a8-5965-4daf-8077-51162b49d7d3",
   "metadata": {},
   "outputs": [],
   "source": []
  }
 ],
 "metadata": {
  "kernelspec": {
   "display_name": "Python [conda env:base] *",
   "language": "python",
   "name": "conda-base-py"
  },
  "language_info": {
   "codemirror_mode": {
    "name": "ipython",
    "version": 3
   },
   "file_extension": ".py",
   "mimetype": "text/x-python",
   "name": "python",
   "nbconvert_exporter": "python",
   "pygments_lexer": "ipython3",
   "version": "3.12.7"
  }
 },
 "nbformat": 4,
 "nbformat_minor": 5
}
