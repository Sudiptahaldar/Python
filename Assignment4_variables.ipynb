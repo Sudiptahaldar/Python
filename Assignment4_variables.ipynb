{
 "cells": [
  {
   "cell_type": "code",
   "execution_count": 1,
   "id": "204b1c30-3518-4dd1-ba5f-c7188b1a14de",
   "metadata": {},
   "outputs": [
    {
     "name": "stdout",
     "output_type": "stream",
     "text": [
      "25\n"
     ]
    }
   ],
   "source": [
    "#1. Declare an integer variable `age` with the value 25.\n",
    "age=int(25)\n",
    "print(age)"
   ]
  },
  {
   "cell_type": "code",
   "execution_count": 3,
   "id": "25ef28a9-4530-42eb-bca8-8e5c355d724b",
   "metadata": {},
   "outputs": [
    {
     "name": "stdout",
     "output_type": "stream",
     "text": [
      "Sudipta\n"
     ]
    }
   ],
   "source": [
    "#2. Create a string variable `name` with your name as its value.\n",
    "name='Sudipta'\n",
    "print(name)"
   ]
  },
  {
   "cell_type": "code",
   "execution_count": 5,
   "id": "1a37f547-241a-4711-b7d1-f1da8ce99e02",
   "metadata": {},
   "outputs": [
    {
     "data": {
      "text/plain": [
       "['apple', 'Watermelone', 'banana']"
      ]
     },
     "execution_count": 5,
     "metadata": {},
     "output_type": "execute_result"
    }
   ],
   "source": [
    "#3. Declare a list variable `fruits` containing three fruit names of your choice.\n",
    "fruits=['apple','Watermelone','banana']\n",
    "fruits"
   ]
  },
  {
   "cell_type": "code",
   "execution_count": 7,
   "id": "9a79afc4-3cef-452f-8fac-7c8d58ecf2a9",
   "metadata": {},
   "outputs": [
    {
     "name": "stdout",
     "output_type": "stream",
     "text": [
      "a= 20  b= 10\n"
     ]
    }
   ],
   "source": [
    "#4. Write code to swap the values of two variables, `a` and `b`, without using a temporary variable.\n",
    "a=10\n",
    "b=20\n",
    "a=a+b\n",
    "b=a-b\n",
    "a=a-b\n",
    "print(\"a=\",a,\" b=\",b)"
   ]
  },
  {
   "cell_type": "code",
   "execution_count": 9,
   "id": "3ec08d47-9e86-4128-8eb3-3c7dc809eea6",
   "metadata": {},
   "outputs": [
    {
     "name": "stdout",
     "output_type": "stream",
     "text": [
      "19.99\n"
     ]
    }
   ],
   "source": [
    "#5. Create a float variable `price` with the value 19.99\n",
    "price=19.99\n",
    "print(price)"
   ]
  },
  {
   "cell_type": "code",
   "execution_count": 11,
   "id": "93ecafc7-c3dc-41da-9e75-a9b55a8358fb",
   "metadata": {},
   "outputs": [
    {
     "name": "stdout",
     "output_type": "stream",
     "text": [
      "True\n"
     ]
    }
   ],
   "source": [
    "#6. Define a boolean variable `is_student` and set it to `True`.\n",
    "is_student=True\n",
    "print(is_student)"
   ]
  },
  {
   "cell_type": "code",
   "execution_count": 13,
   "id": "b44be5a9-9958-436e-8d4e-d8d5db885ba9",
   "metadata": {},
   "outputs": [
    {
     "name": "stdout",
     "output_type": "stream",
     "text": [
      "(40.7128, -74.006)\n"
     ]
    }
   ],
   "source": [
    "#7. Create a tuple variable `coordinates` that stores the latitude and longitude of a location (e.g., (40.7128,-74.0060)).\n",
    "coordinates=(40.7128,-74.0060)\n",
    "print(coordinates)"
   ]
  },
  {
   "cell_type": "code",
   "execution_count": 15,
   "id": "170fcf4e-a390-4161-ad51-8ac5ec8fe7a6",
   "metadata": {},
   "outputs": [
    {
     "name": "stdout",
     "output_type": "stream",
     "text": [
      "{'name': 'Sudipta Haldar', 'age': 26}\n"
     ]
    }
   ],
   "source": [
    "# 8. Declare a dictionary variable `student` with keys \"name\" and \"age\" and set their values accordingly.\n",
    "student = {\"name\":\"Sudipta Haldar\",\"age\":26}\n",
    "print(student)"
   ]
  },
  {
   "cell_type": "code",
   "execution_count": 17,
   "id": "3f87b8b7-5922-4ecb-b89f-4657b3858b51",
   "metadata": {},
   "outputs": [
    {
     "name": "stdout",
     "output_type": "stream",
     "text": [
      "The area of the circle with radius is: 78.57142857142857\n"
     ]
    }
   ],
   "source": [
    "#9. Write a Python program that calculates the area of a circle with a given radius. Use a variable `radius` to store the radius value.\n",
    "radius = 5.0\n",
    "area = (22/7) * (radius ** 2)\n",
    "print(\"The area of the circle with radius is:\",area)"
   ]
  },
  {
   "cell_type": "code",
   "execution_count": 19,
   "id": "7168d21b-3637-4075-846d-f86d1a8d3f3d",
   "metadata": {},
   "outputs": [
    {
     "name": "stdout",
     "output_type": "stream",
     "text": [
      "[1, 2, 3, 4, 5, 6, 7, 8, 9, 10]\n"
     ]
    }
   ],
   "source": [
    "#10. Create a list variable `numbers` containing integers from 1 to 10 using list comprehensive\n",
    "numbers=[i for i in range(1,11)]\n",
    "print(numbers)"
   ]
  },
  {
   "cell_type": "code",
   "execution_count": 21,
   "id": "215182b0-dbdc-4bdb-850c-81764040f327",
   "metadata": {},
   "outputs": [
    {
     "name": "stdout",
     "output_type": "stream",
     "text": [
      "True\n"
     ]
    }
   ],
   "source": [
    "#11. Define a variable `is_valid` and set it to `False`. Then write code to toggle its value to `True`.\n",
    "is_valid=False\n",
    "is_valid=not is_valid\n",
    "print(is_valid)"
   ]
  },
  {
   "cell_type": "code",
   "execution_count": 23,
   "id": "5c7d5d15-4f44-49c0-8ff1-2a9f712128ef",
   "metadata": {},
   "outputs": [
    {
     "name": "stdout",
     "output_type": "stream",
     "text": [
      "I love Video Games\n"
     ]
    }
   ],
   "source": [
    "#12. Declare a string variable `sentence` with a sentence of your choice.\n",
    "sentence='I love Video Games'\n",
    "print(sentence)"
   ]
  },
  {
   "cell_type": "code",
   "execution_count": 25,
   "id": "589397d2-844a-4d2a-b5b6-fb60686c8f94",
   "metadata": {},
   "outputs": [
    {
     "name": "stdout",
     "output_type": "stream",
     "text": [
      "5050\n"
     ]
    }
   ],
   "source": [
    "#13. Write a program that calculates the sum of all numbers from 1 to 100 using a variable `total_sum`.\n",
    "total_sum=0\n",
    "for i in range(1,101):\n",
    "  total_sum+=i\n",
    "print(total_sum)"
   ]
  },
  {
   "cell_type": "code",
   "execution_count": 27,
   "id": "978f6541-3e90-411d-a1a8-912c4f43d197",
   "metadata": {},
   "outputs": [
    {
     "data": {
      "text/plain": [
       "[65.7, 54.3, 98.3, 45.6, 54.8]"
      ]
     },
     "execution_count": 27,
     "metadata": {},
     "output_type": "execute_result"
    }
   ],
   "source": [
    "#14. Create a list variable `grades` containing five test scores as floating-point numbers.\n",
    "grades=[65.7,54.3,98.3,45.6,54.8]\n",
    "grades"
   ]
  },
  {
   "cell_type": "code",
   "execution_count": 29,
   "id": "7c1f5640-d15c-4902-ae92-fca05ca583dd",
   "metadata": {},
   "outputs": [
    {
     "name": "stdout",
     "output_type": "stream",
     "text": [
      "Hello, World\n"
     ]
    }
   ],
   "source": [
    "#15. Define a variable `greeting` and assign it the value \"Hello, World!\".\n",
    "greeting=\"Hello, World\"\n",
    "print(greeting)"
   ]
  },
  {
   "cell_type": "code",
   "execution_count": 31,
   "id": "d1b3123b-6c70-4c0d-bf32-0f82b854e163",
   "metadata": {},
   "outputs": [
    {
     "name": "stdout",
     "output_type": "stream",
     "text": [
      "('January', 'February', 'March', 'April', 'May', 'June', 'July', 'August', 'September', 'October', 'November', 'December')\n"
     ]
    }
   ],
   "source": [
    "#16. Declare a tuple variable `months` containing the names of the twelve months of the year.\n",
    "months = (\"January\", \"February\", \"March\", \"April\", \"May\", \"June\", \"July\", \"August\", \"September\", \"October\", \"November\", \"December\")\n",
    "print(months)"
   ]
  },
  {
   "cell_type": "code",
   "execution_count": 33,
   "id": "8650a421-7d3b-4a7b-9fb1-3efcc99c1fa6",
   "metadata": {},
   "outputs": [
    {
     "name": "stdout",
     "output_type": "stream",
     "text": [
      "1\n"
     ]
    }
   ],
   "source": [
    "#17. Write code that increments an integer variable `counter` by 1 and then prints its value.\n",
    "counter=0\n",
    "counter+=1\n",
    "print(counter)"
   ]
  },
  {
   "cell_type": "code",
   "execution_count": 35,
   "id": "78bc6562-bedd-47c7-815b-9c85cbeee37f",
   "metadata": {},
   "outputs": [
    {
     "name": "stdout",
     "output_type": "stream",
     "text": [
      "{'title': 'Tales of my Life', 'author': 'Sudipta Haldar', 'year': 2030}\n"
     ]
    }
   ],
   "source": [
    "#18. Create a dictionary variable `book` with keys \"title\", \"author\", and \"year\" to store information about a book.\n",
    "book={\n",
    "    \"title\":\"Tales of my Life\",\n",
    "    \"author\":\"Sudipta Haldar\",\n",
    "    \"year\":2030\n",
    "}\n",
    "print(book)"
   ]
  },
  {
   "cell_type": "code",
   "execution_count": 37,
   "id": "eac20a45-1950-41e1-b32b-026f6eefa298",
   "metadata": {},
   "outputs": [
    {
     "name": "stdout",
     "output_type": "stream",
     "text": [
      "3.142857142857143\n"
     ]
    }
   ],
   "source": [
    "#19. Define a variable `pi` and assign it the value of the mathematical constant π (pi).\n",
    "pi=22/7\n",
    "print(pi)"
   ]
  },
  {
   "cell_type": "code",
   "execution_count": 39,
   "id": "076c6f54-95e5-4b4b-877a-05ec46e1a86b",
   "metadata": {},
   "outputs": [
    {
     "name": "stdout",
     "output_type": "stream",
     "text": [
      "['green', 'yellow', 'pink', 'blue', 'white']\n"
     ]
    }
   ],
   "source": [
    "#20. Declare a list variable `colors` containing the names of five different colors.\n",
    "colors=['green','yellow','pink','blue','white']\n",
    "print(colors)"
   ]
  },
  {
   "cell_type": "code",
   "execution_count": 41,
   "id": "044bd164-3a2e-4b11-a9aa-a1f968b98aa7",
   "metadata": {},
   "outputs": [
    {
     "name": "stdin",
     "output_type": "stream",
     "text": [
      "Enter the length: 25\n",
      "Enter the width: 24\n"
     ]
    },
    {
     "name": "stdout",
     "output_type": "stream",
     "text": [
      "Area of a rectangle is  600.0\n"
     ]
    }
   ],
   "source": [
    "#21.Write a program that calculates the area of a rectangle using variables `length` and `width`.\n",
    "length=input(\"Enter the length:\")\n",
    "width=input(\"Enter the width:\")\n",
    "area=float(length)*float(width)\n",
    "print(\"Area of a rectangle is \",area)"
   ]
  },
  {
   "cell_type": "code",
   "execution_count": 43,
   "id": "ff522b80-3899-4c27-9aeb-eae93fa68c51",
   "metadata": {},
   "outputs": [
    {
     "name": "stdout",
     "output_type": "stream",
     "text": [
      "{'first_name': 'Sudipta', 'last_name': 'Haldar'}\n"
     ]
    }
   ],
   "source": [
    "#22. Create a dictionary variable `person` with keys \"first_name\" and \"last_name\" to store a person's name.\n",
    "person={\n",
    "    \"first_name\":\"Sudipta\",\n",
    "    \"last_name\":\"Haldar\"\n",
    "}\n",
    "print(person)"
   ]
  },
  {
   "cell_type": "code",
   "execution_count": 45,
   "id": "de519b25-04b3-4d3f-81df-0a81169009af",
   "metadata": {},
   "outputs": [
    {
     "name": "stdout",
     "output_type": "stream",
     "text": [
      "98.6\n"
     ]
    }
   ],
   "source": [
    "#23. Define a variable `temperature` and assign it a value in Celsius. Convert it to Fahrenheit and store the result in another variable.\n",
    "temperature=37\n",
    "fahrenheit=(temperature*9/5)+32\n",
    "print(fahrenheit)"
   ]
  },
  {
   "cell_type": "code",
   "execution_count": 47,
   "id": "47bdf1e3-c837-413e-849d-1226a1d2069f",
   "metadata": {},
   "outputs": [
    {
     "name": "stdout",
     "output_type": "stream",
     "text": [
      "['apple', 'mango', 'banana', 'orange']\n"
     ]
    }
   ],
   "source": [
    "#24. Write code that appends a new item to a list named 'shopping_list\"\n",
    "shopping_list=['apple','mango','banana']\n",
    "shopping_list.append('orange')\n",
    "print(shopping_list)"
   ]
  },
  {
   "cell_type": "code",
   "execution_count": 49,
   "id": "7251b14f-c100-41bb-be30-911461f808ca",
   "metadata": {},
   "outputs": [
    {
     "name": "stdout",
     "output_type": "stream",
     "text": [
      "False\n"
     ]
    }
   ],
   "source": [
    "#25. Declare a variable `is_raining` and set it to `True`. Then write code to change its value to `False`\n",
    "is_raining=True\n",
    "is_raining=False\n",
    "print(is_raining)"
   ]
  },
  {
   "cell_type": "code",
   "execution_count": null,
   "id": "53c0546f-8300-4f98-bdcf-d471ad3145f1",
   "metadata": {},
   "outputs": [],
   "source": []
  }
 ],
 "metadata": {
  "kernelspec": {
   "display_name": "Python [conda env:base] *",
   "language": "python",
   "name": "conda-base-py"
  },
  "language_info": {
   "codemirror_mode": {
    "name": "ipython",
    "version": 3
   },
   "file_extension": ".py",
   "mimetype": "text/x-python",
   "name": "python",
   "nbconvert_exporter": "python",
   "pygments_lexer": "ipython3",
   "version": "3.12.7"
  }
 },
 "nbformat": 4,
 "nbformat_minor": 5
}
