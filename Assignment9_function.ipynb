{
 "cells": [
  {
   "cell_type": "code",
   "execution_count": 1,
   "id": "0772b745-e985-4fd0-a43a-758194103b29",
   "metadata": {},
   "outputs": [
    {
     "name": "stdout",
     "output_type": "stream",
     "text": [
      "Count Occurrences: 3\n"
     ]
    }
   ],
   "source": [
    "#1. Function Count:\n",
    "#Write a function count_occurrences that takes a list and a target element as\n",
    "#parameters and returns the number of times the target element appears in the list.\n",
    "\n",
    "def count_occurrences(lst, target):\n",
    "    count = 0\n",
    "    for item in lst:\n",
    "        if item == target:\n",
    "            count += 1\n",
    "    return count\n",
    "print(\"Count Occurrences:\", count_occurrences([1, 2, 2, 3, 2, 4], 2))"
   ]
  },
  {
   "cell_type": "code",
   "execution_count": 3,
   "id": "5f1ca2a1-0fc3-49ef-a3cc-fe866b13ceaa",
   "metadata": {},
   "outputs": [
    {
     "name": "stdout",
     "output_type": "stream",
     "text": [
      "Concatenated List: [1, 2, 3, 4]\n"
     ]
    }
   ],
   "source": [
    "#2. Function Concatenation:\n",
    "#Create a function concat_lists that takes two lists as parameters and returns a new list\n",
    "#that is the concatenation of the input lists.\n",
    "def concat_lists(list1, list2):\n",
    "    return list1 + list2\n",
    "\n",
    "print(\"Concatenated List:\", concat_lists([1, 2], [3, 4]))"
   ]
  },
  {
   "cell_type": "code",
   "execution_count": 5,
   "id": "217d8715-6bdf-4b33-8065-47e427d53986",
   "metadata": {},
   "outputs": [
    {
     "name": "stdout",
     "output_type": "stream",
     "text": [
      "Is Palindrome ('radar'): True\n",
      "Is Palindrome ('hello'): False\n"
     ]
    }
   ],
   "source": [
    "#3. Function Palindrome:\n",
    "#Implement a function is_palindrome that takes a string as a parameter and returns\n",
    "#True if it is a palindrome (reads the same backward as forward), and False otherwise.\n",
    "def is_palindrome(s):\n",
    "    return s == s[::-1]\n",
    "print(\"Is Palindrome ('radar'):\", is_palindrome(\"radar\"))\n",
    "print(\"Is Palindrome ('hello'):\", is_palindrome(\"hello\"))"
   ]
  },
  {
   "cell_type": "code",
   "execution_count": 7,
   "id": "1a3ff640-f803-4413-bcfe-1acc5093ded2",
   "metadata": {},
   "outputs": [
    {
     "name": "stdout",
     "output_type": "stream",
     "text": [
      "Common Elements: [2, 3]\n"
     ]
    }
   ],
   "source": [
    "#4. Function Intersection:\n",
    "#Define a function find_common_elements that takes two lists as parameters and\n",
    "#returns a new list containing the common elements between the two input lists.\n",
    "\n",
    "def find_common_elements(list1, list2):\n",
    "    common = []\n",
    "    for item in list1:\n",
    "        if item in list2 and item not in common:\n",
    "            common.append(item)\n",
    "    return common\n",
    "print(\"Common Elements:\", find_common_elements([1, 2, 3], [2, 3, 4]))"
   ]
  },
  {
   "cell_type": "code",
   "execution_count": 11,
   "id": "61e8608f-56cd-472d-8a55-89065f1887f3",
   "metadata": {},
   "outputs": [
    {
     "name": "stdout",
     "output_type": "stream",
     "text": [
      "Capitalized Names: ['Ram', 'Shyam', 'Jodu']\n"
     ]
    }
   ],
   "source": [
    "#5. Function Capitalization:\n",
    "#Write a function capitalize_names that takes a list of names as parameters and returns\n",
    "#a new list where each name is capitalized.\n",
    "def capitalize_names(names):\n",
    "    capitalized = []\n",
    "    for name in names:\n",
    "        capitalized.append(name.capitalize())\n",
    "    return capitalized\n",
    "print(\"Capitalized Names:\", capitalize_names([\"Ram\", \"Shyam\", \"Jodu\"]))"
   ]
  },
  {
   "cell_type": "code",
   "execution_count": null,
   "id": "48d43878-953f-4dc5-8441-b2283348a09a",
   "metadata": {},
   "outputs": [],
   "source": []
  }
 ],
 "metadata": {
  "kernelspec": {
   "display_name": "Python [conda env:base] *",
   "language": "python",
   "name": "conda-base-py"
  },
  "language_info": {
   "codemirror_mode": {
    "name": "ipython",
    "version": 3
   },
   "file_extension": ".py",
   "mimetype": "text/x-python",
   "name": "python",
   "nbconvert_exporter": "python",
   "pygments_lexer": "ipython3",
   "version": "3.12.7"
  }
 },
 "nbformat": 4,
 "nbformat_minor": 5
}
