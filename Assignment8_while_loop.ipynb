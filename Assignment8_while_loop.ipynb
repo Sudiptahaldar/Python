{
 "cells": [
  {
   "cell_type": "code",
   "execution_count": 1,
   "id": "3ba04cbf-9ea1-432b-b6cb-b5c20e35d439",
   "metadata": {},
   "outputs": [
    {
     "name": "stdout",
     "output_type": "stream",
     "text": [
      "1\n",
      "2\n",
      "3\n",
      "4\n",
      "5\n",
      "6\n",
      "7\n",
      "8\n",
      "9\n",
      "10\n"
     ]
    }
   ],
   "source": [
    "#1. Write a program that prints the numbers from 1 to 10 using a while loop.\n",
    "i = 1\n",
    "while i <= 10:\n",
    "    print(i)\n",
    "    i += 1"
   ]
  },
  {
   "cell_type": "code",
   "execution_count": 3,
   "id": "07072d43-bd4f-4954-a37a-623e1b28ccf0",
   "metadata": {},
   "outputs": [
    {
     "name": "stdout",
     "output_type": "stream",
     "text": [
      "2\n",
      "4\n",
      "6\n",
      "8\n",
      "10\n",
      "12\n",
      "14\n",
      "16\n",
      "18\n",
      "20\n"
     ]
    }
   ],
   "source": [
    "#2. Write a program that prints the even numbers from 2 to 20 using a while loop.\n",
    "i = 2\n",
    "while i <= 20:\n",
    "    print(i)\n",
    "    i += 2"
   ]
  },
  {
   "cell_type": "code",
   "execution_count": 5,
   "id": "20c792ad-b92b-4d70-bd00-cc7b59dec871",
   "metadata": {},
   "outputs": [
    {
     "name": "stdout",
     "output_type": "stream",
     "text": [
      "1\n",
      "3\n",
      "5\n",
      "7\n",
      "9\n",
      "11\n",
      "13\n",
      "15\n",
      "17\n",
      "19\n"
     ]
    }
   ],
   "source": [
    "#3. Write a program that prints the odd numbers from 1 to 19 using a while loop.\n",
    "i = 1\n",
    "while i < 20:\n",
    "    print(i)\n",
    "    i += 2"
   ]
  },
  {
   "cell_type": "code",
   "execution_count": 7,
   "id": "89a55d93-c73b-4777-bf34-cc7d9f133538",
   "metadata": {},
   "outputs": [
    {
     "name": "stdout",
     "output_type": "stream",
     "text": [
      "0\n",
      "1\n",
      "1\n",
      "2\n",
      "3\n",
      "5\n",
      "8\n",
      "13\n",
      "21\n",
      "34\n"
     ]
    }
   ],
   "source": [
    "#4. Write a program that prints the first 10 numbers of the Fibonacci sequence using a while loop.\n",
    "a = 0\n",
    "b = 1\n",
    "count = 0\n",
    "while count < 10:\n",
    "    print(a)\n",
    "    c = a + b\n",
    "    a = b\n",
    "    b = c\n",
    "    count += 1"
   ]
  },
  {
   "cell_type": "code",
   "execution_count": 9,
   "id": "000f92ac-e1d8-4a99-8c62-0ac279f58bda",
   "metadata": {},
   "outputs": [
    {
     "name": "stdin",
     "output_type": "stream",
     "text": [
      "Enter a number:  54\n"
     ]
    },
    {
     "name": "stdout",
     "output_type": "stream",
     "text": [
      "54 x 1 = 54\n",
      "54 x 2 = 108\n",
      "54 x 3 = 162\n",
      "54 x 4 = 216\n",
      "54 x 5 = 270\n",
      "54 x 6 = 324\n",
      "54 x 7 = 378\n",
      "54 x 8 = 432\n",
      "54 x 9 = 486\n",
      "54 x 10 = 540\n"
     ]
    }
   ],
   "source": [
    "#5. Write a program that prints the multiplication table of a given number using a while loop.\n",
    "n = int(input(\"Enter a number: \"))\n",
    "i = 1\n",
    "while i <= 10:\n",
    "    print(n, \"x\", i, \"=\", n * i)\n",
    "    i += 1"
   ]
  },
  {
   "cell_type": "code",
   "execution_count": 13,
   "id": "4d115b24-9f8a-4faa-a516-2a64e0d5b4a3",
   "metadata": {},
   "outputs": [
    {
     "name": "stdin",
     "output_type": "stream",
     "text": [
      "Enter a number:  4\n"
     ]
    },
    {
     "name": "stdout",
     "output_type": "stream",
     "text": [
      "Sum of digits: 4\n"
     ]
    }
   ],
   "source": [
    "#6. Write a program that prints the sum of the digits of a given number using a while loop.\n",
    "n = int(input(\"Enter a number: \"))\n",
    "sum = 0\n",
    "while n > 0:\n",
    "    digit = n % 10\n",
    "    sum += digit\n",
    "    n = n // 10\n",
    "print(\"Sum of digits:\", sum)"
   ]
  },
  {
   "cell_type": "code",
   "execution_count": 17,
   "id": "2712ae78-fa14-4526-9908-6982980b9c16",
   "metadata": {},
   "outputs": [
    {
     "name": "stdin",
     "output_type": "stream",
     "text": [
      "Enter a number:  456\n"
     ]
    },
    {
     "name": "stdout",
     "output_type": "stream",
     "text": [
      "Reversed number: 654\n"
     ]
    }
   ],
   "source": [
    "#7. Write a program that prints the reverse of a given number using a while loop.\n",
    "n = int(input(\"Enter a number: \"))\n",
    "reverse = 0\n",
    "while n > 0:\n",
    "    digit = n % 10\n",
    "    reverse = reverse * 10 + digit\n",
    "    n = n // 10\n",
    "print(\"Reversed number:\", reverse)"
   ]
  },
  {
   "cell_type": "code",
   "execution_count": 19,
   "id": "ab85a3d5-0f97-4f96-87d0-961fcf0ee333",
   "metadata": {},
   "outputs": [
    {
     "name": "stdin",
     "output_type": "stream",
     "text": [
      "Enter a number:  45\n"
     ]
    },
    {
     "name": "stdout",
     "output_type": "stream",
     "text": [
      "Factorial: 119622220865480194561963161495657715064383733760000000000\n"
     ]
    }
   ],
   "source": [
    "#8. Write a program that prints the factorial of a given number using a while loop.\n",
    "n = int(input(\"Enter a number: \"))\n",
    "fact = 1\n",
    "i = 1\n",
    "while i <= n:\n",
    "    fact *= i\n",
    "    i += 1\n",
    "print(\"Factorial:\", fact)"
   ]
  },
  {
   "cell_type": "code",
   "execution_count": 21,
   "id": "f51c5f93-a9e2-4f5a-b8bd-49b36fcdf4b1",
   "metadata": {},
   "outputs": [
    {
     "name": "stdout",
     "output_type": "stream",
     "text": [
      "2 3 5 7 11 13 17 19 23 29 31 37 41 43 47 53 59 61 67 71 73 79 83 89 97 "
     ]
    }
   ],
   "source": [
    "#9. Write a program that prints the prime numbers between 1 and 100 using a while loop.\n",
    "num = 2\n",
    "while num <= 100:\n",
    "    is_prime = True\n",
    "    i = 2\n",
    "    while i * i <= num:\n",
    "        if num % i == 0:\n",
    "            is_prime = False\n",
    "            break\n",
    "        i += 1\n",
    "    if is_prime:\n",
    "        print(num, end=\" \")\n",
    "    num += 1"
   ]
  },
  {
   "cell_type": "code",
   "execution_count": 23,
   "id": "d08e9456-4744-4202-91ef-f6d446835b66",
   "metadata": {},
   "outputs": [
    {
     "name": "stdin",
     "output_type": "stream",
     "text": [
      "Enter a number:  4\n"
     ]
    },
    {
     "name": "stdout",
     "output_type": "stream",
     "text": [
      "Sum of first 4 natural numbers is: 10\n"
     ]
    }
   ],
   "source": [
    "#10. Write a program that prints the sum of the first n natural numbers using a while loop.\n",
    "n = int(input(\"Enter a number: \"))\n",
    "sum = 0\n",
    "i = 1\n",
    "while i <= n:\n",
    "    sum += i\n",
    "    i += 1\n",
    "print(\"Sum of first\", n, \"natural numbers is:\", sum)"
   ]
  },
  {
   "cell_type": "code",
   "execution_count": null,
   "id": "c8476046-abe3-4a01-8ae2-a5632dff4e76",
   "metadata": {},
   "outputs": [],
   "source": []
  }
 ],
 "metadata": {
  "kernelspec": {
   "display_name": "Python [conda env:base] *",
   "language": "python",
   "name": "conda-base-py"
  },
  "language_info": {
   "codemirror_mode": {
    "name": "ipython",
    "version": 3
   },
   "file_extension": ".py",
   "mimetype": "text/x-python",
   "name": "python",
   "nbconvert_exporter": "python",
   "pygments_lexer": "ipython3",
   "version": "3.12.7"
  }
 },
 "nbformat": 4,
 "nbformat_minor": 5
}
