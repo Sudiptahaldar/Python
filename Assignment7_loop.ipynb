{
 "cells": [
  {
   "cell_type": "code",
   "execution_count": 1,
   "id": "efc0c942-5944-470b-a585-d78378223959",
   "metadata": {},
   "outputs": [
    {
     "name": "stdout",
     "output_type": "stream",
     "text": [
      "1\n",
      "2\n",
      "3\n",
      "4\n",
      "5\n",
      "6\n",
      "7\n",
      "8\n",
      "9\n",
      "10\n"
     ]
    }
   ],
   "source": [
    "#1. Write a Python program that prints the numbers from 1 to 10 using a for loop.\n",
    "for i in range(1, 11):\n",
    "    print(i)"
   ]
  },
  {
   "cell_type": "code",
   "execution_count": 3,
   "id": "f832e9d2-cc7d-42b0-a1e9-9262f2ffbb86",
   "metadata": {},
   "outputs": [
    {
     "name": "stdin",
     "output_type": "stream",
     "text": [
      "Enter a number:  5\n"
     ]
    },
    {
     "name": "stdout",
     "output_type": "stream",
     "text": [
      "Sum: 15\n"
     ]
    }
   ],
   "source": [
    "#2. Write a Python program that prints the sum of the first n natural numbers, where n is given by the user.\n",
    "n = int(input(\"Enter a number: \"))\n",
    "sum = 0\n",
    "for i in range(1, n + 1):\n",
    "    sum += i\n",
    "print(\"Sum:\", sum)"
   ]
  },
  {
   "cell_type": "code",
   "execution_count": 5,
   "id": "691e165f-c604-4bb9-93e7-6ca5d6aa9415",
   "metadata": {},
   "outputs": [
    {
     "name": "stdin",
     "output_type": "stream",
     "text": [
      "Enter a number:  5\n"
     ]
    },
    {
     "name": "stdout",
     "output_type": "stream",
     "text": [
      "Factorial: 120\n"
     ]
    }
   ],
   "source": [
    "#3. Write a Python program that prints the factorial of a given number n, where n is given by the user.\n",
    "n = int(input(\"Enter a number: \"))\n",
    "fact = 1\n",
    "for i in range(1, n + 1):\n",
    "    fact *= i\n",
    "print(\"Factorial:\", fact)"
   ]
  },
  {
   "cell_type": "code",
   "execution_count": 7,
   "id": "97de54f7-c66b-4541-87ca-c42533666e52",
   "metadata": {},
   "outputs": [
    {
     "name": "stdout",
     "output_type": "stream",
     "text": [
      "2\n",
      "4\n",
      "6\n",
      "8\n",
      "10\n",
      "12\n",
      "14\n",
      "16\n",
      "18\n",
      "20\n"
     ]
    }
   ],
   "source": [
    "#4. Write a Python program that prints all the even numbers from 2 to 20 using a for loop.\n",
    "for i in range(2, 21, 2):\n",
    "    print(i)"
   ]
  },
  {
   "cell_type": "code",
   "execution_count": 9,
   "id": "fddd4348-dad8-4572-917a-22618756d513",
   "metadata": {},
   "outputs": [
    {
     "name": "stdin",
     "output_type": "stream",
     "text": [
      "Enter a number:  5\n"
     ]
    },
    {
     "name": "stdout",
     "output_type": "stream",
     "text": [
      "5 x 1 = 5\n",
      "5 x 2 = 10\n",
      "5 x 3 = 15\n",
      "5 x 4 = 20\n",
      "5 x 5 = 25\n",
      "5 x 6 = 30\n",
      "5 x 7 = 35\n",
      "5 x 8 = 40\n",
      "5 x 9 = 45\n",
      "5 x 10 = 50\n"
     ]
    }
   ],
   "source": [
    "#5. Write a Python program that prints the multiplication table of a given number n, where n is given by the user.\n",
    "n = int(input(\"Enter a number: \"))\n",
    "for i in range(1, 11):\n",
    "    print(n, \"x\", i, \"=\", n * i)"
   ]
  },
  {
   "cell_type": "code",
   "execution_count": 11,
   "id": "b9ebfad7-950b-4974-a2a4-5ac162225f71",
   "metadata": {},
   "outputs": [
    {
     "name": "stdin",
     "output_type": "stream",
     "text": [
      "Enter a number:  5\n"
     ]
    },
    {
     "name": "stdout",
     "output_type": "stream",
     "text": [
      "Fibonacci sequence:\n",
      "0\n",
      "1\n",
      "1\n",
      "2\n",
      "3\n",
      "5\n"
     ]
    }
   ],
   "source": [
    "#6. Write a Python program that prints the Fibonacci sequence up to a given number n, where n is given by the user.\n",
    "n = int(input(\"Enter a number: \"))\n",
    "a = 0\n",
    "b = 1\n",
    "print(\"Fibonacci sequence:\")\n",
    "while a <= n:\n",
    "    print(a)\n",
    "    c = a + b\n",
    "    a = b\n",
    "    b = c"
   ]
  },
  {
   "cell_type": "code",
   "execution_count": 15,
   "id": "021083b9-3fe5-479f-bfa2-46bcb4f4c358",
   "metadata": {},
   "outputs": [
    {
     "name": "stdin",
     "output_type": "stream",
     "text": [
      "Enter a string:  asdfsvxs\n"
     ]
    },
    {
     "name": "stdout",
     "output_type": "stream",
     "text": [
      "Number of vowels: 1\n"
     ]
    }
   ],
   "source": [
    "#7 Write a Python program that prints the number of vowels in a given string s, where s is given by the user\n",
    "s = input(\"Enter a string: \")\n",
    "count = 0\n",
    "for char in s:\n",
    "    if char.lower() in \"aeiou\":\n",
    "        count += 1\n",
    "print(\"Number of vowels:\", count)"
   ]
  },
  {
   "cell_type": "code",
   "execution_count": 17,
   "id": "131d673a-17be-4c5f-afbd-ea483b030fd6",
   "metadata": {},
   "outputs": [
    {
     "name": "stdin",
     "output_type": "stream",
     "text": [
      "Enter a string:  Sudipta\n"
     ]
    },
    {
     "name": "stdout",
     "output_type": "stream",
     "text": [
      "Reversed string: atpiduS\n"
     ]
    }
   ],
   "source": [
    "#8. Write a Python program that prints the reverse of a given string s, where s is given by the user.\n",
    "s = input(\"Enter a string: \")\n",
    "reversed_s = \"\"\n",
    "for char in s:\n",
    "    reversed_s = char + reversed_s\n",
    "print(\"Reversed string:\", reversed_s)"
   ]
  },
  {
   "cell_type": "code",
   "execution_count": 19,
   "id": "3dd59d10-b683-41ca-9bfd-4c0b180d0a25",
   "metadata": {},
   "outputs": [
    {
     "name": "stdin",
     "output_type": "stream",
     "text": [
      "Enter a string:  Sudipta\n"
     ]
    },
    {
     "name": "stdout",
     "output_type": "stream",
     "text": [
      "Not a palindrome\n"
     ]
    }
   ],
   "source": [
    "#9. • Write a Python program that prints whether a given string s, where s is given by the user, is a palindrome or not\n",
    "s = input(\"Enter a string: \")\n",
    "reversed_s = \"\"\n",
    "for char in s:\n",
    "    reversed_s = char + reversed_s\n",
    "if s == reversed_s:\n",
    "    print(\"Palindrome\")\n",
    "else:\n",
    "    print(\"Not a palindrome\")"
   ]
  },
  {
   "cell_type": "code",
   "execution_count": 21,
   "id": "4a0a75b2-453e-4167-af3e-e3f9b3009d0c",
   "metadata": {},
   "outputs": [
    {
     "name": "stdin",
     "output_type": "stream",
     "text": [
      "Enter a sentence:  i have pen\n"
     ]
    },
    {
     "name": "stdout",
     "output_type": "stream",
     "text": [
      "Number of words: 3\n"
     ]
    }
   ],
   "source": [
    "#10. Write a Python program that prints the number of words in a given sentence s, where s is given by the user.\n",
    "s = input(\"Enter a sentence: \")\n",
    "words = s.split()\n",
    "count = 0\n",
    "for word in words:\n",
    "    count += 1\n",
    "print(\"Number of words:\", count)"
   ]
  },
  {
   "cell_type": "code",
   "execution_count": 23,
   "id": "482e7705-e195-4c25-9e58-86a9cab6f342",
   "metadata": {},
   "outputs": [
    {
     "name": "stdin",
     "output_type": "stream",
     "text": [
      "Enter list elements separated by spaces:  5 6 5 5 \n"
     ]
    },
    {
     "name": "stdout",
     "output_type": "stream",
     "text": [
      "Largest: 6\n",
      "Smallest: 5\n"
     ]
    }
   ],
   "source": [
    "#11. Write a Python program that prints the largest and smallest elements in a given list l, where l is given by the user.\n",
    "l = input(\"Enter list elements separated by spaces: \").split()\n",
    "l = [int(x) for x in l]\n",
    "max_val = l[0]\n",
    "min_val = l[0]\n",
    "for num in l:\n",
    "    if num > max_val:\n",
    "        max_val = num\n",
    "    if num < min_val:\n",
    "        min_val = num\n",
    "print(\"Largest:\", max_val)\n",
    "print(\"Smallest:\", min_val)"
   ]
  },
  {
   "cell_type": "code",
   "execution_count": 27,
   "id": "574071d9-6d9c-47f6-9c5b-f464089a5d14",
   "metadata": {},
   "outputs": [
    {
     "name": "stdin",
     "output_type": "stream",
     "text": [
      "Enter list elements separated by spaces:  4 5 6 8 2 \n",
      "Enter the element to count:  4\n"
     ]
    },
    {
     "name": "stdout",
     "output_type": "stream",
     "text": [
      "Occurrences of 4 : 1\n"
     ]
    }
   ],
   "source": [
    "#12. Write a Python program that prints the number of occurrences of a given element x in a given list l, where x and l are given by the user.\n",
    "l = input(\"Enter list elements separated by spaces: \").split()\n",
    "l = [int(x) for x in l]\n",
    "x = int(input(\"Enter the element to count: \"))\n",
    "count = 0\n",
    "for num in l:\n",
    "    if num == x:\n",
    "        count += 1\n",
    "print(\"Occurrences of\", x, \":\", count)"
   ]
  },
  {
   "cell_type": "code",
   "execution_count": 29,
   "id": "94c0811d-a807-4ef1-8922-53d0c8960be1",
   "metadata": {},
   "outputs": [
    {
     "name": "stdin",
     "output_type": "stream",
     "text": [
      "Enter list elements separated by spaces:  4 5 6 87 21\n"
     ]
    },
    {
     "name": "stdout",
     "output_type": "stream",
     "text": [
      "Sorted list: [4, 5, 6, 21, 87]\n"
     ]
    }
   ],
   "source": [
    "#13. Write a Python program that prints the sorted version of a given list l, where l is given by the user.\n",
    "l = input(\"Enter list elements separated by spaces: \").split()\n",
    "l = [int(x) for x in l]\n",
    "for i in range(len(l)):\n",
    "    for j in range(i + 1, len(l)):\n",
    "        if l[i] > l[j]:\n",
    "            l[i], l[j] = l[j], l[i]\n",
    "print(\"Sorted list:\", l)"
   ]
  },
  {
   "cell_type": "code",
   "execution_count": 31,
   "id": "a0493688-5df1-4193-b365-6d9a2a386cf0",
   "metadata": {},
   "outputs": [
    {
     "name": "stdin",
     "output_type": "stream",
     "text": [
      "Enter first list elements:  4 5 6 45\n",
      "Enter second list elements:  4 8 1 2 \n"
     ]
    },
    {
     "name": "stdout",
     "output_type": "stream",
     "text": [
      "Common elements: [4]\n"
     ]
    }
   ],
   "source": [
    "#14. Write a Python program that prints the common elements in two given lists l1 and l2, where l1 and l2 are given by the user.\n",
    "l1 = input(\"Enter first list elements: \").split()\n",
    "l2 = input(\"Enter second list elements: \").split()\n",
    "l1 = [int(x) for x in l1]\n",
    "l2 = [int(x) for x in l2]\n",
    "common = []\n",
    "for item in l1:\n",
    "    if item in l2 and item not in common:\n",
    "        common.append(item)\n",
    "print(\"Common elements:\", common)"
   ]
  },
  {
   "cell_type": "code",
   "execution_count": 33,
   "id": "d0a54bb2-fafa-4709-af33-9c32609530ce",
   "metadata": {},
   "outputs": [
    {
     "name": "stdin",
     "output_type": "stream",
     "text": [
      "Enter the upper range limit:  5\n"
     ]
    },
    {
     "name": "stdout",
     "output_type": "stream",
     "text": [
      "Number of prime numbers: 3\n"
     ]
    }
   ],
   "source": [
    "#15. Write a Python program that prints the number of prime numbers in a given range r, where r is given by the user.\n",
    "r = int(input(\"Enter the upper range limit: \"))\n",
    "count = 0\n",
    "for num in range(2, r + 1):\n",
    "    is_prime = True\n",
    "    for i in range(2, num):\n",
    "        if num % i == 0:\n",
    "            is_prime = False\n",
    "            break\n",
    "    if is_prime:\n",
    "        count += 1\n",
    "print(\"Number of prime numbers:\", count)"
   ]
  },
  {
   "cell_type": "code",
   "execution_count": null,
   "id": "a988d89b-f602-4d15-925e-ed92d9798ce7",
   "metadata": {},
   "outputs": [],
   "source": []
  }
 ],
 "metadata": {
  "kernelspec": {
   "display_name": "Python [conda env:base] *",
   "language": "python",
   "name": "conda-base-py"
  },
  "language_info": {
   "codemirror_mode": {
    "name": "ipython",
    "version": 3
   },
   "file_extension": ".py",
   "mimetype": "text/x-python",
   "name": "python",
   "nbconvert_exporter": "python",
   "pygments_lexer": "ipython3",
   "version": "3.12.7"
  }
 },
 "nbformat": 4,
 "nbformat_minor": 5
}
