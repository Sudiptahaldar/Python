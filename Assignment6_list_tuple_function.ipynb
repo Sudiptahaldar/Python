{
 "cells": [
  {
   "cell_type": "code",
   "execution_count": 1,
   "id": "768858b0-c52f-449c-8d4c-a00a1babda68",
   "metadata": {},
   "outputs": [
    {
     "name": "stdout",
     "output_type": "stream",
     "text": [
      "Sum of list items: 150\n"
     ]
    }
   ],
   "source": [
    "#1. Write a Python program to sum all the items in a list.\n",
    "l = [10, 20, 30, 40, 50]\n",
    "total = 0\n",
    "for item in l:\n",
    "    total += item\n",
    "print(\"Sum of list items:\", total)"
   ]
  },
  {
   "cell_type": "code",
   "execution_count": 3,
   "id": "e37f9f7c-10d1-4e74-9a60-f51b1a59e39a",
   "metadata": {},
   "outputs": [
    {
     "name": "stdout",
     "output_type": "stream",
     "text": [
      "Largest number in the list: 22\n"
     ]
    }
   ],
   "source": [
    "#2. Write a Python program to find the largest number in a list.\n",
    "l = [5, 9, 3, 22, 17]\n",
    "largest = l[0]\n",
    "for item in l:\n",
    "    if item > largest:\n",
    "        largest = item\n",
    "print(\"Largest number in the list:\", largest)"
   ]
  },
  {
   "cell_type": "code",
   "execution_count": 5,
   "id": "346529bf-f709-402a-b2a0-b9cd3f03ce49",
   "metadata": {},
   "outputs": [
    {
     "name": "stdout",
     "output_type": "stream",
     "text": [
      "Smallest number in the list: 2\n"
     ]
    }
   ],
   "source": [
    "#3. Write a Python program to find the smallest number in a list.\n",
    "l = [8, 2, 10, 4, 7]\n",
    "smallest = l[0]\n",
    "for item in l:\n",
    "    if item < smallest:\n",
    "        smallest = item\n",
    "print(\"Smallest number in the list:\", smallest)"
   ]
  },
  {
   "cell_type": "code",
   "execution_count": 7,
   "id": "bedf909d-feaf-4d5b-aa97-6715de8eb310",
   "metadata": {},
   "outputs": [
    {
     "name": "stdout",
     "output_type": "stream",
     "text": [
      "Number of elements in the list: 6\n"
     ]
    }
   ],
   "source": [
    "#4. Write a Python program to count the number of elements in a list.\n",
    "l = [1, 2, 3, 4, 5, 6]\n",
    "count = 0\n",
    "for item in l:\n",
    "    count += 1\n",
    "print(\"Number of elements in the list:\", count)"
   ]
  },
  {
   "cell_type": "code",
   "execution_count": 9,
   "id": "13cda716-5483-4cc0-8fea-d82432a7266f",
   "metadata": {},
   "outputs": [
    {
     "name": "stdout",
     "output_type": "stream",
     "text": [
      "List without duplicates: [1, 2, 3, 4, 5]\n"
     ]
    }
   ],
   "source": [
    "#5. Write a Python program to remove duplicates from a list.\n",
    "l = [1, 2, 2, 3, 4, 4, 5]\n",
    "unique = []\n",
    "for item in l:\n",
    "    if item not in unique:\n",
    "        unique.append(item)\n",
    "print(\"List without duplicates:\", unique)"
   ]
  },
  {
   "cell_type": "code",
   "execution_count": 11,
   "id": "73230b69-4480-4777-ac56-a0200d5b9ecf",
   "metadata": {},
   "outputs": [
    {
     "name": "stdout",
     "output_type": "stream",
     "text": [
      "The list is empty.\n"
     ]
    }
   ],
   "source": [
    "#6. Write a Python program to check if a list is empty or not.\n",
    "l = []\n",
    "if len(l) == 0:\n",
    "    print(\"The list is empty.\")\n",
    "else:\n",
    "    print(\"The list is not empty.\")"
   ]
  },
  {
   "cell_type": "code",
   "execution_count": 13,
   "id": "07e52d12-391a-486a-8433-4cac5cc9a800",
   "metadata": {},
   "outputs": [
    {
     "name": "stdout",
     "output_type": "stream",
     "text": [
      "Length of the tuple: 4\n"
     ]
    }
   ],
   "source": [
    "#7. Write a Python program to find the length of a tuple.\n",
    "t = (10, 20, 30, 40)\n",
    "length = 0\n",
    "for item in t:\n",
    "    length += 1\n",
    "print(\"Length of the tuple:\", length)"
   ]
  },
  {
   "cell_type": "code",
   "execution_count": 15,
   "id": "dff92647-f4e8-4b3f-9050-9784c28216ad",
   "metadata": {},
   "outputs": [
    {
     "name": "stdout",
     "output_type": "stream",
     "text": [
      "Largest number in the tuple: 8\n"
     ]
    }
   ],
   "source": [
    "#8. Write a Python program to find the largest number in a tuple.\n",
    "t = (3, 5, 7, 2, 8)\n",
    "largest = t[0]\n",
    "for item in t:\n",
    "    if item > largest:\n",
    "        largest = item\n",
    "print(\"Largest number in the tuple:\", largest)"
   ]
  },
  {
   "cell_type": "code",
   "execution_count": 17,
   "id": "58377279-ac79-4b02-ab8c-4d81ea284286",
   "metadata": {},
   "outputs": [
    {
     "name": "stdout",
     "output_type": "stream",
     "text": [
      "Smallest number in the tuple: 1\n"
     ]
    }
   ],
   "source": [
    "#9. Write a Python program to find the smallest number in a tuple.\n",
    "t = (9, 4, 6, 1, 3)\n",
    "smallest = t[0]\n",
    "for item in t:\n",
    "    if item < smallest:\n",
    "        smallest = item\n",
    "print(\"Smallest number in the tuple:\", smallest)"
   ]
  },
  {
   "cell_type": "code",
   "execution_count": 19,
   "id": "1c54d2b4-97de-4f9e-89fa-552030e2d623",
   "metadata": {},
   "outputs": [
    {
     "name": "stdout",
     "output_type": "stream",
     "text": [
      "Number of elements in the tuple: 5\n"
     ]
    }
   ],
   "source": [
    "#10. Write a Python program to count the number of elements in a tuple.\n",
    "t = (1, 2, 3, 4, 5)\n",
    "count = 0\n",
    "for item in t:\n",
    "    count += 1\n",
    "print(\"Number of elements in the tuple:\", count)"
   ]
  },
  {
   "cell_type": "code",
   "execution_count": 21,
   "id": "55f424ae-66a3-4de5-8edc-fb14152e3d7a",
   "metadata": {},
   "outputs": [
    {
     "name": "stdout",
     "output_type": "stream",
     "text": [
      "The tuple is empty.\n"
     ]
    }
   ],
   "source": [
    "#11. Write a Python program to check if a tuple is empty or not.\n",
    "t = ()\n",
    "if len(t) == 0:\n",
    "    print(\"The tuple is empty.\")\n",
    "else:\n",
    "    print(\"The tuple is not empty.\")"
   ]
  },
  {
   "cell_type": "code",
   "execution_count": 23,
   "id": "604f7ddb-5cc8-414b-ba37-93e0775a11c6",
   "metadata": {},
   "outputs": [
    {
     "name": "stdout",
     "output_type": "stream",
     "text": [
      "Element exists in the list.\n"
     ]
    }
   ],
   "source": [
    "#12. Write a Python program to check if a given element exists in a list.\n",
    "l = [1, 2, 3, 4, 5]\n",
    "element = 3\n",
    "found = False\n",
    "for item in l:\n",
    "    if item == element:\n",
    "        found = True\n",
    "        break\n",
    "if found:\n",
    "    print(\"Element exists in the list.\")\n",
    "else:\n",
    "    print(\"Element does not exist in the list.\")"
   ]
  },
  {
   "cell_type": "code",
   "execution_count": 25,
   "id": "552bfd68-2f6d-4297-91d2-45c284176076",
   "metadata": {},
   "outputs": [
    {
     "name": "stdout",
     "output_type": "stream",
     "text": [
      "Element exists in the tuple.\n"
     ]
    }
   ],
   "source": [
    "#13. Write a Python program to check if a given element exists in a tuple.\n",
    "t = (10, 20, 30, 40)\n",
    "element = 20\n",
    "for item in t:\n",
    "    if item == element:\n",
    "      print(\"Element exists in the tuple.\")"
   ]
  },
  {
   "cell_type": "code",
   "execution_count": 27,
   "id": "5adc60a4-e380-47e8-b2eb-14792c023926",
   "metadata": {},
   "outputs": [
    {
     "name": "stdout",
     "output_type": "stream",
     "text": [
      "Key exists in the dictionary.\n"
     ]
    }
   ],
   "source": [
    "#14. Write a Python program to check if a given key exists in a dictionary.\n",
    "d = {'a': 1, 'b': 2, 'c': 3}\n",
    "key = 'b'\n",
    "for k in d:\n",
    "    if k == key:\n",
    "        print(\"Key exists in the dictionary.\")"
   ]
  },
  {
   "cell_type": "code",
   "execution_count": 29,
   "id": "912810b1-412e-4074-a092-eee5eb818a2d",
   "metadata": {},
   "outputs": [
    {
     "name": "stdout",
     "output_type": "stream",
     "text": [
      "Sum of even numbers: 12\n"
     ]
    }
   ],
   "source": [
    "#15. Write a Python program to find the sum of all even numbers in a list.\n",
    "l = [1, 2, 3, 4, 5, 6]\n",
    "total = 0\n",
    "for item in l:\n",
    "    if item % 2 == 0:\n",
    "        total += item\n",
    "print(\"Sum of even numbers:\", total)"
   ]
  },
  {
   "cell_type": "code",
   "execution_count": 31,
   "id": "e6783c04-b423-4213-a815-b4ae0ce69fc7",
   "metadata": {},
   "outputs": [
    {
     "name": "stdout",
     "output_type": "stream",
     "text": [
      "Sum of odd numbers: 9\n"
     ]
    }
   ],
   "source": [
    "#16. Write a Python program to find the sum of all odd numbers in a list.\n",
    "l = [1, 2, 3, 4, 5, 6]\n",
    "total = 0\n",
    "for item in l:\n",
    "    if item % 2 != 0:\n",
    "        total += item\n",
    "print(\"Sum of odd numbers:\", total)"
   ]
  },
  {
   "cell_type": "code",
   "execution_count": 33,
   "id": "fdb6591c-331b-4d28-9c25-9fae6d20c4ec",
   "metadata": {},
   "outputs": [
    {
     "name": "stdout",
     "output_type": "stream",
     "text": [
      "Factorial using recursion: 120\n"
     ]
    }
   ],
   "source": [
    "#17. Write a Python program to find the factorial of a number using recursion.\n",
    "n = 5\n",
    "result = 1\n",
    "def fact(x):\n",
    "    if x == 1:\n",
    "        return 1\n",
    "    return x * fact(x - 1)\n",
    "result = fact(n)\n",
    "print(\"Factorial using recursion:\", result)"
   ]
  },
  {
   "cell_type": "code",
   "execution_count": 35,
   "id": "fd08d6bb-a874-43ab-9d7b-979cb33fed9d",
   "metadata": {},
   "outputs": [
    {
     "name": "stdout",
     "output_type": "stream",
     "text": [
      "Factorial using loop: 120\n"
     ]
    }
   ],
   "source": [
    "#18. Write a Python program to find the factorial of a number using a loop.\n",
    "n = 5\n",
    "fact = 1\n",
    "i = 1\n",
    "while i <= n:\n",
    "    fact *= i\n",
    "    i += 1\n",
    "print(\"Factorial using loop:\", fact)"
   ]
  },
  {
   "cell_type": "code",
   "execution_count": 37,
   "id": "248e4c77-1d1e-4eee-848b-6663ce6c1205",
   "metadata": {},
   "outputs": [
    {
     "name": "stdin",
     "output_type": "stream",
     "text": [
      "Enter a number:  54\n"
     ]
    },
    {
     "name": "stdout",
     "output_type": "stream",
     "text": [
      "54 is not a prime number.\n"
     ]
    }
   ],
   "source": [
    "#19. Write a Python program to check if a number is prime or not.\n",
    "num = int(input(\"Enter a number: \"))\n",
    "\n",
    "if num <= 1:\n",
    "    print(num, \"is not a prime number.\")\n",
    "else:\n",
    "    is_prime = True\n",
    "    for i in range(2, num):\n",
    "        if num % i == 0:\n",
    "            is_prime = False\n",
    "            break\n",
    "    if is_prime:\n",
    "        print(num, \"is a prime number.\")\n",
    "    else:\n",
    "        print(num, \"is not a prime number.\")"
   ]
  },
  {
   "cell_type": "code",
   "execution_count": 39,
   "id": "f6fb38bc-2f35-489c-ac97-2534e3e1e1e7",
   "metadata": {},
   "outputs": [
    {
     "name": "stdout",
     "output_type": "stream",
     "text": [
      "0 1 1 2 3 5 8 13 21 34 "
     ]
    }
   ],
   "source": [
    "#20. Write a Python program to find the Fibonacci series up to n terms.\n",
    "n = 10\n",
    "a = 0\n",
    "b = 1\n",
    "count = 0\n",
    "while count < n:\n",
    "    print(a, end=' ')\n",
    "    c = a + b\n",
    "    a = b\n",
    "    b = c\n",
    "    count += 1"
   ]
  },
  {
   "cell_type": "code",
   "execution_count": 41,
   "id": "5724cb4e-1dd3-4a85-91c6-bf6f983f1f47",
   "metadata": {},
   "outputs": [
    {
     "name": "stdout",
     "output_type": "stream",
     "text": [
      "GCD of 36 and 60 is 12\n"
     ]
    }
   ],
   "source": [
    "#21. Write a Python program to find the GCD of two numbers.\n",
    "a = 36\n",
    "b = 60\n",
    "gcd = 1\n",
    "i = 1\n",
    "while i <= a and i <= b:\n",
    "    if a % i == 0 and b % i == 0:\n",
    "        gcd = i\n",
    "    i += 1\n",
    "print(\"GCD of\", a, \"and\", b, \"is\", gcd)"
   ]
  },
  {
   "cell_type": "code",
   "execution_count": 43,
   "id": "dd1f6635-0f7e-4251-a6d2-b10f668c764f",
   "metadata": {},
   "outputs": [
    {
     "name": "stdout",
     "output_type": "stream",
     "text": [
      "LCM of 12 and 18 is 36\n"
     ]
    }
   ],
   "source": [
    "#22. Write a Python program to find the LCM of two numbers.\n",
    "a = 12\n",
    "b = 18\n",
    "if a > b:\n",
    "    greater = a\n",
    "else:\n",
    "    greater = b\n",
    "\n",
    "while True:\n",
    "    if greater % a == 0 and greater % b == 0:\n",
    "        lcm = greater\n",
    "        break\n",
    "    greater += 1\n",
    "print(\"LCM of\", a, \"and\", b, \"is\", lcm)"
   ]
  },
  {
   "cell_type": "code",
   "execution_count": 45,
   "id": "3ce2c021-919f-454b-ab51-c26fe92a74bd",
   "metadata": {},
   "outputs": [
    {
     "name": "stdout",
     "output_type": "stream",
     "text": [
      "Reversed list: [5, 4, 3, 2, 1]\n"
     ]
    }
   ],
   "source": [
    "#23. Write a Python program to reverse a list.\n",
    "l = [1, 2, 3, 4, 5]\n",
    "reversed_list = []\n",
    "i = len(l) - 1\n",
    "while i >= 0:\n",
    "    reversed_list.append(l[i])\n",
    "    i -= 1\n",
    "print(\"Reversed list:\", reversed_list)"
   ]
  },
  {
   "cell_type": "code",
   "execution_count": 47,
   "id": "ce8b822d-166a-4877-a787-7c99bd6cdfbe",
   "metadata": {},
   "outputs": [
    {
     "name": "stdout",
     "output_type": "stream",
     "text": [
      "Sorted list in ascending order: [1, 2, 5, 5, 6, 9]\n"
     ]
    }
   ],
   "source": [
    "#24. Write a Python program to sort a list in ascending order.\n",
    "l = [5, 2, 9, 1, 5, 6]\n",
    "n = len(l)\n",
    "i = 0\n",
    "while i < n:\n",
    "    j = 0\n",
    "    while j < n - i - 1:\n",
    "        if l[j] > l[j + 1]:\n",
    "            temp = l[j]\n",
    "            l[j] = l[j + 1]\n",
    "            l[j + 1] = temp\n",
    "        j += 1\n",
    "    i += 1\n",
    "print(\"Sorted list in ascending order:\", l)"
   ]
  },
  {
   "cell_type": "code",
   "execution_count": 49,
   "id": "2147b3c1-d6d0-4b9a-9f39-c7e5769ce8ff",
   "metadata": {},
   "outputs": [
    {
     "name": "stdout",
     "output_type": "stream",
     "text": [
      "Sorted list in descending order: [9, 6, 5, 5, 2, 1]\n"
     ]
    }
   ],
   "source": [
    "#25. Write a Python program to sort a list in descending order.\n",
    "l = [5, 2, 9, 1, 5, 6]\n",
    "n = len(l)\n",
    "i = 0\n",
    "while i < n:\n",
    "    j = 0\n",
    "    while j < n - i - 1:\n",
    "        if l[j] < l[j + 1]:\n",
    "            temp = l[j]\n",
    "            l[j] = l[j + 1]\n",
    "            l[j + 1] = temp\n",
    "        j += 1\n",
    "    i += 1\n",
    "print(\"Sorted list in descending order:\", l)"
   ]
  },
  {
   "cell_type": "code",
   "execution_count": null,
   "id": "3f594f04-3a97-4a31-86a9-f113582086f3",
   "metadata": {},
   "outputs": [],
   "source": []
  }
 ],
 "metadata": {
  "kernelspec": {
   "display_name": "Python [conda env:base] *",
   "language": "python",
   "name": "conda-base-py"
  },
  "language_info": {
   "codemirror_mode": {
    "name": "ipython",
    "version": 3
   },
   "file_extension": ".py",
   "mimetype": "text/x-python",
   "name": "python",
   "nbconvert_exporter": "python",
   "pygments_lexer": "ipython3",
   "version": "3.12.7"
  }
 },
 "nbformat": 4,
 "nbformat_minor": 5
}
