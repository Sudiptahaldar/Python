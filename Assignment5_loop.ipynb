{
 "cells": [
  {
   "cell_type": "code",
   "execution_count": 1,
   "id": "57caf44f-7675-4ed8-9689-83a43430fd7e",
   "metadata": {},
   "outputs": [
    {
     "name": "stdout",
     "output_type": "stream",
     "text": [
      "15\n"
     ]
    }
   ],
   "source": [
    "#1. Write a Python program to sum all the items in a list.\n",
    "l=[1,2,3,4,5]\n",
    "add=sum(l)\n",
    "print(add)"
   ]
  },
  {
   "cell_type": "code",
   "execution_count": 3,
   "id": "0d046cc6-79bd-4588-9c69-ec537802b970",
   "metadata": {},
   "outputs": [
    {
     "name": "stdout",
     "output_type": "stream",
     "text": [
      "9\n"
     ]
    }
   ],
   "source": [
    "#2. Write a Python program to find the largest number in a list.\n",
    "l=[1,2,3,9,8,7,5,6]\n",
    "print(max(l))"
   ]
  },
  {
   "cell_type": "code",
   "execution_count": 5,
   "id": "1663c4bf-cb91-4a10-a345-e4ebba485cdd",
   "metadata": {},
   "outputs": [
    {
     "name": "stdout",
     "output_type": "stream",
     "text": [
      "1\n"
     ]
    }
   ],
   "source": [
    "#3. Write a Python program to find the smallest number in a list.\n",
    "l=[7,8,6,5,3,1,4]\n",
    "print(min(l))"
   ]
  },
  {
   "cell_type": "code",
   "execution_count": 7,
   "id": "d597a691-4e02-4d92-a924-38eb6b2dd5d0",
   "metadata": {},
   "outputs": [
    {
     "name": "stdout",
     "output_type": "stream",
     "text": [
      "5\n"
     ]
    }
   ],
   "source": [
    "#4. Write a Python program to count the number of elements in a list.\n",
    "l=[1,4,5,6,8]\n",
    "print(len(l))"
   ]
  },
  {
   "cell_type": "code",
   "execution_count": 9,
   "id": "ad4d408c-1dd0-4470-bf88-f10c57209295",
   "metadata": {},
   "outputs": [
    {
     "name": "stdout",
     "output_type": "stream",
     "text": [
      "{1, 3, 4, 6, 8}\n"
     ]
    }
   ],
   "source": [
    "#5. Write a Python program to remove duplicates from a list.\n",
    "l=[4,6,3,4,6,8,1]\n",
    "print(set(l))"
   ]
  },
  {
   "cell_type": "code",
   "execution_count": 11,
   "id": "76b35673-6eec-4968-b49c-58d112fbb348",
   "metadata": {},
   "outputs": [
    {
     "name": "stdout",
     "output_type": "stream",
     "text": [
      "list is empty\n"
     ]
    }
   ],
   "source": [
    "#6. Write a Python program to check if a list is empty or not.\n",
    "l=[]\n",
    "if len(l)==0:\n",
    "  print(\"list is empty\")\n",
    "else:\n",
    "  print(\"List is not empty\")"
   ]
  },
  {
   "cell_type": "code",
   "execution_count": 13,
   "id": "21571f77-c9dc-431a-b999-d3065c777a65",
   "metadata": {},
   "outputs": [
    {
     "name": "stdout",
     "output_type": "stream",
     "text": [
      "6\n"
     ]
    }
   ],
   "source": [
    "#7. Write a Python program to find the length of a tuple.\n",
    "t=(4,6,3,2,4,7)\n",
    "print(len(t))"
   ]
  },
  {
   "cell_type": "code",
   "execution_count": 15,
   "id": "0d900720-dbf0-49f0-9fc2-0e658c270c9a",
   "metadata": {},
   "outputs": [
    {
     "name": "stdout",
     "output_type": "stream",
     "text": [
      "7\n"
     ]
    }
   ],
   "source": [
    "#8. Write a Python program to find the largest number in a tuple.\n",
    "t=(4,6,3,2,4,7)\n",
    "print(max(t))"
   ]
  },
  {
   "cell_type": "code",
   "execution_count": 17,
   "id": "467aea2b-8d41-486b-bc8c-49e6e752f1bd",
   "metadata": {},
   "outputs": [
    {
     "name": "stdout",
     "output_type": "stream",
     "text": [
      "2\n"
     ]
    }
   ],
   "source": [
    "#9. Write a Python program to find the smallest number in a tuple.\n",
    "t=(4,6,3,2,4,7)\n",
    "print(min(t))"
   ]
  },
  {
   "cell_type": "code",
   "execution_count": 19,
   "id": "4e7fcc18-9731-4c6c-8ba3-5684e4c1a962",
   "metadata": {},
   "outputs": [
    {
     "name": "stdout",
     "output_type": "stream",
     "text": [
      "6\n"
     ]
    }
   ],
   "source": [
    "#10. Write a Python program to count the number of elements in a tuple.\n",
    "t=(4,6,3,2,4,7)\n",
    "print(len(t))"
   ]
  },
  {
   "cell_type": "code",
   "execution_count": 21,
   "id": "bc4697c0-42dd-41d4-bf96-26a5900cf980",
   "metadata": {},
   "outputs": [
    {
     "name": "stdout",
     "output_type": "stream",
     "text": [
      "tuple is empty\n"
     ]
    }
   ],
   "source": [
    "#11. Write a Python program to check if a tuple is empty or not.\n",
    "t=()\n",
    "if len(t)==0:\n",
    "  print(\"tuple is empty\")\n",
    "else:\n",
    "  print(\"tuple is not empty\")"
   ]
  },
  {
   "cell_type": "code",
   "execution_count": 23,
   "id": "6c2c7944-7f68-456e-a05e-983a99df815f",
   "metadata": {},
   "outputs": [
    {
     "name": "stdout",
     "output_type": "stream",
     "text": [
      "Element exists in a list\n"
     ]
    }
   ],
   "source": [
    "#12. Write a Python program to check if a given element exists in a list.\n",
    "l=[3,2,4,6,8]\n",
    "if 6 in l:\n",
    "  print(\"Element exists in a list\")\n",
    "else:\n",
    "    print(\"Element does not exists in a list\")"
   ]
  },
  {
   "cell_type": "code",
   "execution_count": 25,
   "id": "59dd368f-05c8-4810-96e8-e2cdd3ac22c9",
   "metadata": {},
   "outputs": [
    {
     "name": "stdout",
     "output_type": "stream",
     "text": [
      "Element exists in a tuple\n"
     ]
    }
   ],
   "source": [
    "#13. Write a Python program to check if a given element exists in a tuple.\n",
    "t=(5,3,2,7,8)\n",
    "if 2 in t:\n",
    "  print(\"Element exists in a tuple\")\n",
    "else:\n",
    "    print(\"Element does not exists in a tuple\")"
   ]
  },
  {
   "cell_type": "code",
   "execution_count": 27,
   "id": "41bee56d-780e-4524-b865-3a32555b8260",
   "metadata": {},
   "outputs": [
    {
     "name": "stdout",
     "output_type": "stream",
     "text": [
      "Element exists in a dictionary\n"
     ]
    }
   ],
   "source": [
    "#14. Write a Python program to check if a given key exists in a dictionary.\n",
    "d={\"name\":\"Sudipta\", \"city\":\"Kolkata\", \"collage\":\"IEM\"}\n",
    "if \"city\" in d:\n",
    "  print(\"Element exists in a dictionary\")\n",
    "else:\n",
    "    print(\"Element does not exists in a dictionary\")"
   ]
  },
  {
   "cell_type": "code",
   "execution_count": 29,
   "id": "6314ccea-5f11-4eb9-a66f-09d576f79967",
   "metadata": {},
   "outputs": [
    {
     "name": "stdout",
     "output_type": "stream",
     "text": [
      "Sum of all even number is:  20\n"
     ]
    }
   ],
   "source": [
    "#15. Write a Python program to find the sum of all even numbers in a list.\n",
    "l=[1,2,3,4,5,6,7,8,9]\n",
    "sum=0\n",
    "for i in l:\n",
    "  if i%2==0:\n",
    "    sum+=i\n",
    "print(\"Sum of all even number is: \",sum)"
   ]
  },
  {
   "cell_type": "code",
   "execution_count": 31,
   "id": "843b9c01-4791-4582-81b2-acefc4276db8",
   "metadata": {},
   "outputs": [
    {
     "name": "stdout",
     "output_type": "stream",
     "text": [
      "Sum of all odd number is:  25\n"
     ]
    }
   ],
   "source": [
    "#16. Write a Python program to find the sum of all odd numbers in a list.\n",
    "l={1,2,3,4,5,6,7,8,9}\n",
    "sum=0\n",
    "for i in l:\n",
    "  if i % 2 !=0:\n",
    "    sum+=i\n",
    "print(\"Sum of all odd number is: \",sum)"
   ]
  },
  {
   "cell_type": "code",
   "execution_count": 33,
   "id": "521a3308-267e-4f8b-868a-e19ab1ae6d6e",
   "metadata": {},
   "outputs": [
    {
     "name": "stdout",
     "output_type": "stream",
     "text": [
      "120\n"
     ]
    }
   ],
   "source": [
    "#17. Write a Python program to find the factorial of a number using recursion.\n",
    "def factorial(n):\n",
    "    if n == 0 or n == 1:\n",
    "        return 1\n",
    "    else:\n",
    "        return n * factorial(n - 1)\n",
    "number = 5\n",
    "print(factorial(number))"
   ]
  },
  {
   "cell_type": "code",
   "execution_count": 35,
   "id": "b01eb15c-34d9-4d02-9347-ea3aaf6f7faa",
   "metadata": {},
   "outputs": [
    {
     "name": "stdin",
     "output_type": "stream",
     "text": [
      "Enter a number:  25\n"
     ]
    },
    {
     "name": "stdout",
     "output_type": "stream",
     "text": [
      "The factorial of 25 is 15511210043330985984000000\n"
     ]
    }
   ],
   "source": [
    "#18. Write a Python program to find the factorial of a number using loop.\n",
    "num = int(input(\"Enter a number: \"))\n",
    "factorial = 1\n",
    "if num < 0:\n",
    "   print(\"Sorry, factorial does not exist for negative numbers\")\n",
    "elif num == 0:\n",
    "   print(\"The factorial of 0 is 1\")\n",
    "else:\n",
    "   for i in range(1,num + 1):\n",
    "       factorial = factorial*i\n",
    "   print(\"The factorial of\",num,\"is\",factorial)"
   ]
  },
  {
   "cell_type": "code",
   "execution_count": 37,
   "id": "d7153f09-785a-4dc2-bfa6-e97b54487f69",
   "metadata": {},
   "outputs": [
    {
     "name": "stdin",
     "output_type": "stream",
     "text": [
      "Enter a number:  2\n"
     ]
    },
    {
     "name": "stdout",
     "output_type": "stream",
     "text": [
      "2 is a prime number\n"
     ]
    }
   ],
   "source": [
    "#19. Write a Python program to check if a number is prime or not.\n",
    "num = int(input(\"Enter a number: \"))\n",
    "if num>1:\n",
    "  for i in range(2,num):\n",
    "    if num%i==0:\n",
    "      print(num,\"is not a prime number\")\n",
    "      break\n",
    "  else:\n",
    "    print(num,\"is a prime number\")"
   ]
  },
  {
   "cell_type": "code",
   "execution_count": 39,
   "id": "495067f0-c834-47d1-b030-ac5dd87b90b6",
   "metadata": {},
   "outputs": [
    {
     "name": "stdin",
     "output_type": "stream",
     "text": [
      "How many terms?  2\n"
     ]
    },
    {
     "name": "stdout",
     "output_type": "stream",
     "text": [
      "Fibonacci sequence:\n",
      "0\n",
      "1\n"
     ]
    }
   ],
   "source": [
    "#20. Write a Python program to find the Fibonacci series up to n terms.\n",
    "# Program to display the Fibonacci sequence up to n-th term\n",
    "\n",
    "nterms = int(input(\"How many terms? \"))\n",
    "n1, n2 = 0, 1\n",
    "count = 0\n",
    "if nterms <= 0:\n",
    "   print(\"Please enter a positive integer\")\n",
    "elif nterms == 1:\n",
    "   print(\"Fibonacci sequence upto\",nterms,\":\")\n",
    "   print(n1)\n",
    "else:\n",
    "   print(\"Fibonacci sequence:\")\n",
    "   while count < nterms:\n",
    "       print(n1)\n",
    "       nth = n1 + n2\n",
    "       n1 = n2\n",
    "       n2 = nth\n",
    "       count += 1"
   ]
  },
  {
   "cell_type": "code",
   "execution_count": null,
   "id": "3b82059a-e580-439d-aba5-f55453b78b94",
   "metadata": {},
   "outputs": [],
   "source": []
  }
 ],
 "metadata": {
  "kernelspec": {
   "display_name": "Python [conda env:base] *",
   "language": "python",
   "name": "conda-base-py"
  },
  "language_info": {
   "codemirror_mode": {
    "name": "ipython",
    "version": 3
   },
   "file_extension": ".py",
   "mimetype": "text/x-python",
   "name": "python",
   "nbconvert_exporter": "python",
   "pygments_lexer": "ipython3",
   "version": "3.12.7"
  }
 },
 "nbformat": 4,
 "nbformat_minor": 5
}
