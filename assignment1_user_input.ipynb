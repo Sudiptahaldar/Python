{
 "cells": [
  {
   "cell_type": "code",
   "execution_count": 1,
   "id": "f87130a2-d6c5-44bf-b567-cda0ccf93efd",
   "metadata": {},
   "outputs": [
    {
     "name": "stdout",
     "output_type": "stream",
     "text": [
      "15\n"
     ]
    }
   ],
   "source": [
    "# 1.Write a Python program to take two numbers as input and print their sum.\n",
    "\n",
    "a=5\n",
    "b=10\n",
    "c=a+b\n",
    "print(c)"
   ]
  },
  {
   "cell_type": "code",
   "execution_count": 3,
   "id": "ffe0c6a5-f443-48b2-a005-eb58ba837066",
   "metadata": {},
   "outputs": [
    {
     "name": "stdin",
     "output_type": "stream",
     "text": [
      "Enter 1st number:  50\n",
      "Enter 2nd number:  60\n"
     ]
    },
    {
     "name": "stdout",
     "output_type": "stream",
     "text": [
      "The difference of two number is: -10\n"
     ]
    }
   ],
   "source": [
    "# 2.Write a Python program to take two numbers as input and print their difference.\n",
    "\n",
    "a=int(input(\"Enter 1st number: \"))\n",
    "b=int(input(\"Enter 2nd number: \"))\n",
    "c=a-b\n",
    "print(\"The difference of two number is:\",c)"
   ]
  },
  {
   "cell_type": "code",
   "execution_count": 5,
   "id": "ed576a27-8e68-482a-b39d-aeb3cdd6f05c",
   "metadata": {},
   "outputs": [
    {
     "name": "stdin",
     "output_type": "stream",
     "text": [
      "Enter first number:  80\n",
      "Enter second number:  65\n"
     ]
    },
    {
     "name": "stdout",
     "output_type": "stream",
     "text": [
      "The product of two numbers is: 5200\n"
     ]
    }
   ],
   "source": [
    "# 3.Write a Python program to take two numbers as input and print their product.\n",
    "\n",
    "num1 = int(input(\"Enter first number: \"))\n",
    "num2 = int(input(\"Enter second number: \"))\n",
    "product = num1 * num2\n",
    "print(\"The product of two numbers is:\",product)"
   ]
  },
  {
   "cell_type": "code",
   "execution_count": 7,
   "id": "fd5d72bc-4e6b-4a4d-bb26-2ccce7c5e98b",
   "metadata": {},
   "outputs": [
    {
     "name": "stdin",
     "output_type": "stream",
     "text": [
      "Enter 1st number:  56\n",
      "Enter 2nd number:  52\n"
     ]
    },
    {
     "name": "stdout",
     "output_type": "stream",
     "text": [
      "1.0769230769230769\n",
      "1.0\n"
     ]
    }
   ],
   "source": [
    "# 4.Write a Python program to take two numbers as input and print their quotient.\n",
    "a = float(input(\"Enter 1st number: \"))\n",
    "b = float(input(\"Enter 2nd number: \"))\n",
    "c = a/b\n",
    "d = a//b\n",
    "print(c)\n",
    "print(d)"
   ]
  },
  {
   "cell_type": "code",
   "execution_count": 9,
   "id": "60d22eef-b811-4307-8a4c-c7cae2e7e4cf",
   "metadata": {},
   "outputs": [
    {
     "name": "stdin",
     "output_type": "stream",
     "text": [
      "Enter 1st number:  50\n",
      "Enter 2nd number:  5\n"
     ]
    },
    {
     "name": "stdout",
     "output_type": "stream",
     "text": [
      "The remainder of two number is: 0\n"
     ]
    }
   ],
   "source": [
    "# 5.Write a Python program to take two numbers as input and print their remainder.\n",
    "num1 = int(input(\"Enter 1st number: \"))\n",
    "num2 = int(input(\"Enter 2nd number: \"))\n",
    "remainder = num1 % num2\n",
    "print(\"The remainder of two number is:\",remainder)"
   ]
  },
  {
   "cell_type": "code",
   "execution_count": 11,
   "id": "8e59cdea-c2d0-4823-86ba-05c89f3a3cf3",
   "metadata": {},
   "outputs": [
    {
     "name": "stdin",
     "output_type": "stream",
     "text": [
      "Enter first number: 50\n",
      "Enter second number 50\n"
     ]
    },
    {
     "name": "stdout",
     "output_type": "stream",
     "text": [
      "The power of above two number is: 8.881784197001252e+84\n"
     ]
    }
   ],
   "source": [
    "# 6.Write a Python program to take two numbers as input and print their power.\n",
    "base = float(input(\"Enter first number:\"))\n",
    "exponent = float(input(\"Enter second number\"))\n",
    "power = base**exponent\n",
    "print(\"The power of above two number is:\",power)"
   ]
  },
  {
   "cell_type": "code",
   "execution_count": 13,
   "id": "9b662c8f-78ef-424b-8d2e-7e01881b13c4",
   "metadata": {},
   "outputs": [
    {
     "name": "stdin",
     "output_type": "stream",
     "text": [
      "Enter 1st number: 50\n",
      "Enter 2nd number: 45\n"
     ]
    },
    {
     "name": "stdout",
     "output_type": "stream",
     "text": [
      "The Average of two number is: 47.5\n"
     ]
    }
   ],
   "source": [
    "#7.Write a Python program to take two numbers as input and print their average.\n",
    "num1 = float(input(\"Enter 1st number:\"))\n",
    "num2 = float(input(\"Enter 2nd number:\"))\n",
    "average = (num1+num2)/2\n",
    "print(\"The Average of two number is:\",average)"
   ]
  },
  {
   "cell_type": "code",
   "execution_count": 15,
   "id": "42fb9e94-c037-4bdb-ad60-2c660fd6ab63",
   "metadata": {},
   "outputs": [
    {
     "name": "stdin",
     "output_type": "stream",
     "text": [
      "Enter a number: 25\n"
     ]
    },
    {
     "name": "stdout",
     "output_type": "stream",
     "text": [
      "The square root of a number is: 5.0\n"
     ]
    }
   ],
   "source": [
    "#8.Write a Python program to take a number as input and print its square root.\n",
    "\n",
    "import math\n",
    "a = int(input(\"Enter a number:\"))\n",
    "sqrt_value = math.sqrt(a)\n",
    "print(\"The square root of a number is:\",sqrt_value)"
   ]
  },
  {
   "cell_type": "code",
   "execution_count": 17,
   "id": "89924cf4-6081-449f-b4b4-ae565587aea8",
   "metadata": {},
   "outputs": [
    {
     "name": "stdin",
     "output_type": "stream",
     "text": [
      "Enter a number: 50\n"
     ]
    },
    {
     "name": "stdout",
     "output_type": "stream",
     "text": [
      "The cube root of a number is: 3.6840314986403864\n"
     ]
    }
   ],
   "source": [
    "#9.Write a Python program to take a number as input and print its cube root.\n",
    "num = float(input(\"Enter a number:\"))\n",
    "cube_root = num ** (1/3)\n",
    "print(\"The cube root of a number is:\",cube_root)"
   ]
  },
  {
   "cell_type": "code",
   "execution_count": 19,
   "id": "f50146a0-94e5-4b47-a1df-d39e52f38350",
   "metadata": {},
   "outputs": [
    {
     "name": "stdin",
     "output_type": "stream",
     "text": [
      "Enter a number: 50\n"
     ]
    },
    {
     "name": "stdout",
     "output_type": "stream",
     "text": [
      "The absolute value of a number is: 50\n"
     ]
    }
   ],
   "source": [
    "#10.Write a Python program to take a number as input and print its absolute value.\n",
    "\n",
    "a = int(input(\"Enter a number:\"))\n",
    "absolute_value = abs(a)\n",
    "print(\"The absolute value of a number is:\",absolute_value)"
   ]
  },
  {
   "cell_type": "code",
   "execution_count": 21,
   "id": "ff02206d-bb17-4d4a-902b-6a6fd5f39449",
   "metadata": {},
   "outputs": [
    {
     "name": "stdin",
     "output_type": "stream",
     "text": [
      "Enter a number:  25\n"
     ]
    },
    {
     "name": "stdout",
     "output_type": "stream",
     "text": [
      "The floor value of a number: 25\n"
     ]
    }
   ],
   "source": [
    "#11.Write a Python program to take a number as input and print its floor value.\n",
    "\n",
    "import math\n",
    "num = float(input(\"Enter a number: \"))\n",
    "floor_value = math.floor(num)\n",
    "print(\"The floor value of a number:\",floor_value)"
   ]
  },
  {
   "cell_type": "code",
   "execution_count": 23,
   "id": "132c8e69-9fb4-4f6e-8e3b-4daf47319d5c",
   "metadata": {},
   "outputs": [
    {
     "name": "stdin",
     "output_type": "stream",
     "text": [
      "Enter a number: 25\n"
     ]
    },
    {
     "name": "stdout",
     "output_type": "stream",
     "text": [
      "The ceiling value is: 25\n"
     ]
    }
   ],
   "source": [
    "#12.Write a Python program to take a number as input and print its ceiling value\n",
    "num = float(input(\"Enter a number:\"))\n",
    "if num == int(num):\n",
    "  ceil_value = int(num)\n",
    "else:\n",
    "  ceil_value = int(num) + 1 if num>0 else int(num)\n",
    "print(\"The ceiling value is:\",ceil_value)"
   ]
  },
  {
   "cell_type": "code",
   "execution_count": null,
   "id": "4c272383-896d-4393-988f-2a4d2a20f6ca",
   "metadata": {},
   "outputs": [],
   "source": []
  }
 ],
 "metadata": {
  "kernelspec": {
   "display_name": "Python [conda env:base] *",
   "language": "python",
   "name": "conda-base-py"
  },
  "language_info": {
   "codemirror_mode": {
    "name": "ipython",
    "version": 3
   },
   "file_extension": ".py",
   "mimetype": "text/x-python",
   "name": "python",
   "nbconvert_exporter": "python",
   "pygments_lexer": "ipython3",
   "version": "3.12.7"
  }
 },
 "nbformat": 4,
 "nbformat_minor": 5
}
